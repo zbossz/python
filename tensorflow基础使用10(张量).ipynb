{
 "cells": [
  {
   "cell_type": "code",
   "execution_count": 1,
   "id": "e81a6127",
   "metadata": {},
   "outputs": [],
   "source": [
    "import tensorflow as tf"
   ]
  },
  {
   "cell_type": "markdown",
   "id": "13a41a57",
   "metadata": {},
   "source": [
    "vector是一个一维的，matrics是二维的"
   ]
  },
  {
   "cell_type": "markdown",
   "id": "8548f623",
   "metadata": {},
   "source": [
    "# 创建一个张量"
   ]
  },
  {
   "cell_type": "code",
   "execution_count": 2,
   "id": "4068df80",
   "metadata": {},
   "outputs": [
    {
     "data": {
      "text/plain": [
       "<tf.Tensor: shape=(), dtype=int32, numpy=4>"
      ]
     },
     "execution_count": 2,
     "metadata": {},
     "output_type": "execute_result"
    }
   ],
   "source": [
    "tf.constant(4)"
   ]
  },
  {
   "cell_type": "code",
   "execution_count": 3,
   "id": "edbd9cfd",
   "metadata": {},
   "outputs": [
    {
     "data": {
      "text/plain": [
       "<tf.Tensor: shape=(), dtype=float32, numpy=4.0>"
      ]
     },
     "execution_count": 3,
     "metadata": {},
     "output_type": "execute_result"
    }
   ],
   "source": [
    "tf.constant(4.0)"
   ]
  },
  {
   "cell_type": "code",
   "execution_count": 4,
   "id": "36cc98df",
   "metadata": {},
   "outputs": [
    {
     "data": {
      "text/plain": [
       "<tf.Tensor: shape=(1, 1), dtype=int32, numpy=array([[4]])>"
      ]
     },
     "execution_count": 4,
     "metadata": {},
     "output_type": "execute_result"
    }
   ],
   "source": [
    "tf.constant(4,shape=(1,1))"
   ]
  },
  {
   "cell_type": "code",
   "execution_count": 5,
   "id": "d888f799",
   "metadata": {},
   "outputs": [
    {
     "data": {
      "text/plain": [
       "<tf.Tensor: shape=(1, 1), dtype=float32, numpy=array([[4.]], dtype=float32)>"
      ]
     },
     "execution_count": 5,
     "metadata": {},
     "output_type": "execute_result"
    }
   ],
   "source": [
    "tf.constant(4,shape=(1,1),dtype=tf.float32)"
   ]
  },
  {
   "cell_type": "code",
   "execution_count": 6,
   "id": "df5e9e35",
   "metadata": {},
   "outputs": [
    {
     "data": {
      "text/plain": [
       "<tf.Tensor: shape=(2, 3), dtype=int32, numpy=\n",
       "array([[1, 2, 3],\n",
       "       [4, 5, 6]])>"
      ]
     },
     "execution_count": 6,
     "metadata": {},
     "output_type": "execute_result"
    }
   ],
   "source": [
    "tf.constant([[1,2,3],[4,5,6]])"
   ]
  },
  {
   "cell_type": "code",
   "execution_count": 7,
   "id": "e32512cb",
   "metadata": {},
   "outputs": [
    {
     "data": {
      "text/plain": [
       "<tf.Tensor: shape=(3, 3), dtype=float32, numpy=\n",
       "array([[1., 1., 1.],\n",
       "       [1., 1., 1.],\n",
       "       [1., 1., 1.]], dtype=float32)>"
      ]
     },
     "execution_count": 7,
     "metadata": {},
     "output_type": "execute_result"
    }
   ],
   "source": [
    "tf.ones((3,3))"
   ]
  },
  {
   "cell_type": "code",
   "execution_count": 8,
   "id": "7a3649ff",
   "metadata": {
    "scrolled": true
   },
   "outputs": [
    {
     "data": {
      "text/plain": [
       "<tf.Tensor: shape=(2, 3), dtype=float32, numpy=\n",
       "array([[0., 0., 0.],\n",
       "       [0., 0., 0.]], dtype=float32)>"
      ]
     },
     "execution_count": 8,
     "metadata": {},
     "output_type": "execute_result"
    }
   ],
   "source": [
    "tf.zeros((2,3))"
   ]
  },
  {
   "cell_type": "markdown",
   "id": "9fbe6c52",
   "metadata": {},
   "source": [
    "对角线为1的单位矩阵identity matrix"
   ]
  },
  {
   "cell_type": "code",
   "execution_count": 10,
   "id": "a15ee6ef",
   "metadata": {},
   "outputs": [
    {
     "data": {
      "text/plain": [
       "<tf.Tensor: shape=(3, 3), dtype=float32, numpy=\n",
       "array([[1., 0., 0.],\n",
       "       [0., 1., 0.],\n",
       "       [0., 0., 1.]], dtype=float32)>"
      ]
     },
     "execution_count": 10,
     "metadata": {},
     "output_type": "execute_result"
    }
   ],
   "source": [
    "tf.eye(3)"
   ]
  },
  {
   "cell_type": "markdown",
   "id": "75ede169",
   "metadata": {},
   "source": [
    "mean是正态分布的平均值，stddev是正态分布的标准差"
   ]
  },
  {
   "cell_type": "code",
   "execution_count": 11,
   "id": "0d6309d4",
   "metadata": {},
   "outputs": [
    {
     "data": {
      "text/plain": [
       "<tf.Tensor: shape=(3, 3), dtype=float32, numpy=\n",
       "array([[ 0.774337  , -0.20476985, -1.7366977 ],\n",
       "       [ 0.40055254, -1.6781529 ,  0.79777634],\n",
       "       [-0.04213721,  0.96475106, -1.3462292 ]], dtype=float32)>"
      ]
     },
     "execution_count": 11,
     "metadata": {},
     "output_type": "execute_result"
    }
   ],
   "source": [
    "tf.random.normal((3,3),mean=0,stddev=1)"
   ]
  },
  {
   "cell_type": "code",
   "execution_count": 12,
   "id": "872fba60",
   "metadata": {},
   "outputs": [
    {
     "data": {
      "text/plain": [
       "<tf.Tensor: shape=(3, 3), dtype=float32, numpy=\n",
       "array([[0.5326619 , 0.38693714, 0.22828817],\n",
       "       [0.18783474, 0.26956105, 0.665699  ],\n",
       "       [0.90568316, 0.6489365 , 0.4047451 ]], dtype=float32)>"
      ]
     },
     "execution_count": 12,
     "metadata": {},
     "output_type": "execute_result"
    }
   ],
   "source": [
    "tf.random.uniform((3,3),minval=0,maxval=1)"
   ]
  },
  {
   "cell_type": "code",
   "execution_count": 13,
   "id": "aa94f413",
   "metadata": {},
   "outputs": [
    {
     "data": {
      "text/plain": [
       "<tf.Tensor: shape=(9,), dtype=int32, numpy=array([0, 1, 2, 3, 4, 5, 6, 7, 8])>"
      ]
     },
     "execution_count": 13,
     "metadata": {},
     "output_type": "execute_result"
    }
   ],
   "source": [
    " tf.range(9)"
   ]
  },
  {
   "cell_type": "markdown",
   "id": "e2399bb8",
   "metadata": {},
   "source": [
    "delta是python里面的步长path"
   ]
  },
  {
   "cell_type": "code",
   "execution_count": 14,
   "id": "45df9603",
   "metadata": {
    "scrolled": true
   },
   "outputs": [
    {
     "data": {
      "text/plain": [
       "<tf.Tensor: shape=(5,), dtype=int32, numpy=array([1, 3, 5, 7, 9])>"
      ]
     },
     "execution_count": 14,
     "metadata": {},
     "output_type": "execute_result"
    }
   ],
   "source": [
    "tf.range(start=1,limit=10,delta=2)"
   ]
  },
  {
   "cell_type": "markdown",
   "id": "976992cf",
   "metadata": {},
   "source": [
    "cast相当于一种强制类型转换<br>\n",
    "相当于float(1,3,5,7,9)"
   ]
  },
  {
   "cell_type": "code",
   "execution_count": 15,
   "id": "b3e861da",
   "metadata": {},
   "outputs": [
    {
     "data": {
      "text/plain": [
       "<tf.Tensor: shape=(5,), dtype=float32, numpy=array([1., 3., 5., 7., 9.], dtype=float32)>"
      ]
     },
     "execution_count": 15,
     "metadata": {},
     "output_type": "execute_result"
    }
   ],
   "source": [
    "tf.cast(tf.range(start=1,limit=10,delta=2),dtype=tf.float32)"
   ]
  },
  {
   "cell_type": "markdown",
   "id": "81ab80e4",
   "metadata": {},
   "source": [
    "# 张量的数学操作"
   ]
  },
  {
   "cell_type": "markdown",
   "id": "18c09d55",
   "metadata": {},
   "source": [
    "加法"
   ]
  },
  {
   "cell_type": "code",
   "execution_count": 19,
   "id": "7382e282",
   "metadata": {},
   "outputs": [
    {
     "data": {
      "text/plain": [
       "(<tf.Tensor: shape=(3,), dtype=int32, numpy=array([10, 10, 10])>,\n",
       " <tf.Tensor: shape=(3,), dtype=int32, numpy=array([10, 10, 10])>)"
      ]
     },
     "execution_count": 19,
     "metadata": {},
     "output_type": "execute_result"
    }
   ],
   "source": [
    "x=tf.constant([1,2,3])\n",
    "y=tf.constant([9,8,7])\n",
    "tf.add(x,y),x+y"
   ]
  },
  {
   "cell_type": "markdown",
   "id": "32ea441d",
   "metadata": {},
   "source": [
    "减法"
   ]
  },
  {
   "cell_type": "code",
   "execution_count": 20,
   "id": "981e4709",
   "metadata": {},
   "outputs": [
    {
     "data": {
      "text/plain": [
       "(<tf.Tensor: shape=(3,), dtype=int32, numpy=array([-8, -6, -4])>,\n",
       " <tf.Tensor: shape=(3,), dtype=int32, numpy=array([-8, -6, -4])>)"
      ]
     },
     "execution_count": 20,
     "metadata": {},
     "output_type": "execute_result"
    }
   ],
   "source": [
    "x=tf.constant([1,2,3])\n",
    "y=tf.constant([9,8,7])\n",
    "tf.subtract(x,y),x-y"
   ]
  },
  {
   "cell_type": "code",
   "execution_count": 21,
   "id": "399025a5",
   "metadata": {},
   "outputs": [
    {
     "data": {
      "text/plain": [
       "(<tf.Tensor: shape=(3,), dtype=float64, numpy=array([0.11111111, 0.25      , 0.42857143])>,\n",
       " <tf.Tensor: shape=(3,), dtype=float64, numpy=array([0.11111111, 0.25      , 0.42857143])>)"
      ]
     },
     "execution_count": 21,
     "metadata": {},
     "output_type": "execute_result"
    }
   ],
   "source": [
    "x=tf.constant([1,2,3])\n",
    "y=tf.constant([9,8,7])\n",
    "tf.divide(x,y),x/y"
   ]
  },
  {
   "cell_type": "code",
   "execution_count": 22,
   "id": "de9450c8",
   "metadata": {},
   "outputs": [
    {
     "data": {
      "text/plain": [
       "(<tf.Tensor: shape=(3,), dtype=int32, numpy=array([ 9, 16, 21])>,\n",
       " <tf.Tensor: shape=(3,), dtype=int32, numpy=array([ 9, 16, 21])>)"
      ]
     },
     "execution_count": 22,
     "metadata": {},
     "output_type": "execute_result"
    }
   ],
   "source": [
    "x=tf.constant([1,2,3])\n",
    "y=tf.constant([9,8,7])\n",
    "tf.multiply(x,y),x*y"
   ]
  },
  {
   "cell_type": "code",
   "execution_count": 24,
   "id": "f4fd94cf",
   "metadata": {},
   "outputs": [
    {
     "data": {
      "text/plain": [
       "(<tf.Tensor: shape=(), dtype=int32, numpy=46>,\n",
       " <tf.Tensor: shape=(), dtype=int32, numpy=46>)"
      ]
     },
     "execution_count": 24,
     "metadata": {},
     "output_type": "execute_result"
    }
   ],
   "source": [
    "x=tf.constant([1,2,3])\n",
    "y=tf.constant([9,8,7])\n",
    "tf.tensordot(x,y,axes=1),tf.reduce_sum(x*y,axis=0)"
   ]
  },
  {
   "cell_type": "markdown",
   "id": "0e6c21e0",
   "metadata": {},
   "source": [
    "每个元素的n次方"
   ]
  },
  {
   "cell_type": "code",
   "execution_count": 26,
   "id": "fd2b0ed0",
   "metadata": {},
   "outputs": [
    {
     "data": {
      "text/plain": [
       "<tf.Tensor: shape=(3,), dtype=int32, numpy=array([  1,  32, 243])>"
      ]
     },
     "execution_count": 26,
     "metadata": {},
     "output_type": "execute_result"
    }
   ],
   "source": [
    "x=tf.constant([1,2,3])\n",
    "x**5"
   ]
  },
  {
   "cell_type": "code",
   "execution_count": 29,
   "id": "b65314d2",
   "metadata": {},
   "outputs": [
    {
     "data": {
      "text/plain": [
       "<tf.Tensor: shape=(2, 3), dtype=int32, numpy=\n",
       "array([[1, 2, 3],\n",
       "       [4, 5, 6]])>"
      ]
     },
     "execution_count": 29,
     "metadata": {},
     "output_type": "execute_result"
    }
   ],
   "source": [
    "tf.constant([[1,2,3],[4,5,6]])"
   ]
  },
  {
   "cell_type": "code",
   "execution_count": 30,
   "id": "58c5de5e",
   "metadata": {
    "scrolled": true
   },
   "outputs": [
    {
     "data": {
      "text/plain": [
       "<tf.Tensor: shape=(3, 2), dtype=int32, numpy=\n",
       "array([[ 7,  8],\n",
       "       [ 9, 10],\n",
       "       [11, 12]])>"
      ]
     },
     "execution_count": 30,
     "metadata": {},
     "output_type": "execute_result"
    }
   ],
   "source": [
    "tf.constant([[7,8],[9,10],[11,12]])"
   ]
  },
  {
   "cell_type": "markdown",
   "id": "14268402",
   "metadata": {},
   "source": [
    "矩阵相乘"
   ]
  },
  {
   "cell_type": "code",
   "execution_count": 31,
   "id": "c8c4cfa1",
   "metadata": {},
   "outputs": [
    {
     "data": {
      "text/plain": [
       "(<tf.Tensor: shape=(2, 2), dtype=int32, numpy=\n",
       " array([[ 58,  64],\n",
       "        [139, 154]])>,\n",
       " <tf.Tensor: shape=(2, 2), dtype=int32, numpy=\n",
       " array([[ 58,  64],\n",
       "        [139, 154]])>)"
      ]
     },
     "execution_count": 31,
     "metadata": {},
     "output_type": "execute_result"
    }
   ],
   "source": [
    "x=tf.constant([[1,2,3],[4,5,6]])\n",
    "y=tf.constant([[7,8],[9,10],[11,12]])\n",
    "tf.matmul(x,y),x@y"
   ]
  },
  {
   "cell_type": "code",
   "execution_count": 32,
   "id": "acf54c0c",
   "metadata": {
    "scrolled": true
   },
   "outputs": [
    {
     "data": {
      "text/plain": [
       "(<tf.Tensor: shape=(10,), dtype=int32, numpy=array([0, 1, 2, 3, 4, 5, 6, 7, 8, 9])>,\n",
       " <tf.Tensor: shape=(10,), dtype=int32, numpy=array([0, 1, 2, 3, 4, 5, 6, 7, 8, 9])>,\n",
       " <tf.Tensor: shape=(5,), dtype=int32, numpy=array([0, 2, 4, 6, 8])>,\n",
       " <tf.Tensor: shape=(10,), dtype=int32, numpy=array([9, 8, 7, 6, 5, 4, 3, 2, 1, 0])>)"
      ]
     },
     "execution_count": 32,
     "metadata": {},
     "output_type": "execute_result"
    }
   ],
   "source": [
    "x=tf.constant([0,1,2,3,4,5,6,7,8,9])\n",
    "x,x[:],x[::2],x[::-1]"
   ]
  },
  {
   "cell_type": "markdown",
   "id": "bd9ce02b",
   "metadata": {},
   "source": [
    "现在我们要根据下标取特定的值"
   ]
  },
  {
   "cell_type": "code",
   "execution_count": 33,
   "id": "79854ca0",
   "metadata": {},
   "outputs": [
    {
     "data": {
      "text/plain": [
       "<tf.Tensor: shape=(2,), dtype=int32, numpy=array([0, 3])>"
      ]
     },
     "execution_count": 33,
     "metadata": {},
     "output_type": "execute_result"
    }
   ],
   "source": [
    "x=tf.constant([0,1,2,3,4,5,6,7,8,9])\n",
    "index = tf.constant([0,3])\n",
    "x_index = tf.gather(x,index)\n",
    "x_index"
   ]
  },
  {
   "cell_type": "code",
   "execution_count": 35,
   "id": "c43412c8",
   "metadata": {},
   "outputs": [
    {
     "data": {
      "text/plain": [
       "(<tf.Tensor: shape=(3, 2), dtype=int32, numpy=\n",
       " array([[1, 2],\n",
       "        [3, 4],\n",
       "        [5, 6]])>,\n",
       " <tf.Tensor: shape=(2,), dtype=int32, numpy=array([1, 2])>,\n",
       " <tf.Tensor: shape=(2,), dtype=int32, numpy=array([1, 2])>,\n",
       " <tf.Tensor: shape=(2, 2), dtype=int32, numpy=\n",
       " array([[1, 2],\n",
       "        [3, 4]])>,\n",
       " <tf.Tensor: shape=(), dtype=int32, numpy=6>,\n",
       " <tf.Tensor: shape=(2,), dtype=int32, numpy=array([4, 6])>)"
      ]
     },
     "execution_count": 35,
     "metadata": {},
     "output_type": "execute_result"
    }
   ],
   "source": [
    "x= tf.constant([[1,2],\n",
    "                [3,4],\n",
    "                [5,6]])\n",
    "x,x[0],x[0,:],x[0:2,:],x[2,1],x[1:3,1]"
   ]
  },
  {
   "cell_type": "markdown",
   "id": "d567afe0",
   "metadata": {},
   "source": [
    "矩阵重塑"
   ]
  },
  {
   "cell_type": "code",
   "execution_count": 36,
   "id": "cfa1363f",
   "metadata": {},
   "outputs": [
    {
     "data": {
      "text/plain": [
       "(<tf.Tensor: shape=(9,), dtype=int32, numpy=array([0, 1, 2, 3, 4, 5, 6, 7, 8])>,\n",
       " <tf.Tensor: shape=(3, 3), dtype=int32, numpy=\n",
       " array([[0, 1, 2],\n",
       "        [3, 4, 5],\n",
       "        [6, 7, 8]])>)"
      ]
     },
     "execution_count": 36,
     "metadata": {},
     "output_type": "execute_result"
    }
   ],
   "source": [
    "x=tf.range(9)\n",
    "y=tf.reshape(x,(3,3))\n",
    "x,y"
   ]
  },
  {
   "cell_type": "markdown",
   "id": "2af00dd3",
   "metadata": {},
   "source": [
    "矩阵的转换"
   ]
  },
  {
   "cell_type": "code",
   "execution_count": 37,
   "id": "3213b90a",
   "metadata": {},
   "outputs": [
    {
     "data": {
      "text/plain": [
       "(<tf.Tensor: shape=(3, 3), dtype=int32, numpy=\n",
       " array([[1, 2, 3],\n",
       "        [4, 5, 6],\n",
       "        [7, 8, 9]])>,\n",
       " <tf.Tensor: shape=(3, 3), dtype=int32, numpy=\n",
       " array([[1, 4, 7],\n",
       "        [2, 5, 8],\n",
       "        [3, 6, 9]])>)"
      ]
     },
     "execution_count": 37,
     "metadata": {},
     "output_type": "execute_result"
    }
   ],
   "source": [
    "x=tf.constant([[1,2,3],\n",
    "              [4,5,6],\n",
    "              [7,8,9]])\n",
    "y=tf.transpose(x,perm=[1,0])\n",
    "x,y"
   ]
  },
  {
   "cell_type": "code",
   "execution_count": null,
   "id": "a29ce25d",
   "metadata": {},
   "outputs": [],
   "source": []
  }
 ],
 "metadata": {
  "kernelspec": {
   "display_name": "Python 3 (ipykernel)",
   "language": "python",
   "name": "python3"
  },
  "language_info": {
   "codemirror_mode": {
    "name": "ipython",
    "version": 3
   },
   "file_extension": ".py",
   "mimetype": "text/x-python",
   "name": "python",
   "nbconvert_exporter": "python",
   "pygments_lexer": "ipython3",
   "version": "3.9.7"
  }
 },
 "nbformat": 4,
 "nbformat_minor": 5
}
