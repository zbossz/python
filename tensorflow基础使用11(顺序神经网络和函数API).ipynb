{
 "cells": [
  {
   "cell_type": "code",
   "execution_count": 7,
   "id": "1d8c5667",
   "metadata": {},
   "outputs": [],
   "source": [
    "import tensorflow as tf\n",
    "from tensorflow import keras\n",
    "from tensorflow.keras import layers\n",
    "from tensorflow.keras.datasets import mnist"
   ]
  },
  {
   "cell_type": "code",
   "execution_count": 8,
   "id": "f293a2e2",
   "metadata": {},
   "outputs": [
    {
     "data": {
      "text/plain": [
       "((60000, 28, 28), (10000, 28, 28))"
      ]
     },
     "execution_count": 8,
     "metadata": {},
     "output_type": "execute_result"
    }
   ],
   "source": [
    "(x_train,y_train),(x_test,y_test) = mnist.load_data()\n",
    "x_train.shape,x_test.shape"
   ]
  },
  {
   "cell_type": "code",
   "execution_count": 9,
   "id": "5b91d6a0",
   "metadata": {},
   "outputs": [],
   "source": [
    "x_train =x_train.reshape(-1,28*28).astype(\"float32\") / 255.0 # -1的意思是保留60000这个维度,/255是为了让它保持在0到1之间\n",
    "x_test = x_test.reshape(-1,28*28).astype(\"float32\") / 255.0 "
   ]
  },
  {
   "cell_type": "markdown",
   "id": "9a738e52",
   "metadata": {},
   "source": [
    "上面的x_train 和x_test还是numpy数组，现在我们来把他们转化成tensor张量"
   ]
  },
  {
   "cell_type": "code",
   "execution_count": 10,
   "id": "ce7b8b10",
   "metadata": {},
   "outputs": [],
   "source": [
    "x_train = tf.convert_to_tensor(x_train)\n",
    "x_test = tf.convert_to_tensor(x_test)\n",
    "y_train = tf.convert_to_tensor(y_train)\n",
    "y_test = tf.convert_to_tensor(y_test)"
   ]
  },
  {
   "cell_type": "markdown",
   "id": "9abfcfed",
   "metadata": {},
   "source": [
    "其实上面这个操作步骤并不需要我们手动来做，tensorflow内部会自动转换"
   ]
  },
  {
   "cell_type": "markdown",
   "id": "bb3bf683",
   "metadata": {},
   "source": [
    "sequential API"
   ]
  },
  {
   "cell_type": "markdown",
   "id": "b157e43a",
   "metadata": {},
   "source": [
    "Sequential api 只能单个输入，单个输出，不是很灵活"
   ]
  },
  {
   "cell_type": "code",
   "execution_count": 30,
   "id": "50c1a32d",
   "metadata": {},
   "outputs": [],
   "source": [
    "model = keras.Sequential([layers.Dense(512,activation='relu'),\n",
    "                         layers.Dense(256,activation='relu',name='second_layer'),\n",
    "                         layers.Dense(10)])"
   ]
  },
  {
   "cell_type": "code",
   "execution_count": 33,
   "id": "81b26ea9",
   "metadata": {},
   "outputs": [],
   "source": [
    "model = keras.Sequential([keras.Input(shape=28*28),#加了这个就可以打印model.summary() \n",
    "                         layers.Dense(512,activation='relu'),\n",
    "                         layers.Dense(256,activation='relu',name='second_layer'),\n",
    "                         layers.Dense(10)])"
   ]
  },
  {
   "cell_type": "code",
   "execution_count": 34,
   "id": "343fc372",
   "metadata": {},
   "outputs": [],
   "source": [
    "model = keras.Sequential()\n",
    "model.add(keras.Input(shape=784))\n",
    "model.add(layers.Dense(512,activation='relu'))\n",
    "model.add(layers.Dense(256,activation='relu',name='second_layer'))\n",
    "model.add(layers.Dense(10))"
   ]
  },
  {
   "cell_type": "code",
   "execution_count": 12,
   "id": "9150a520",
   "metadata": {},
   "outputs": [],
   "source": [
    "model.compile(loss=keras.losses.SparseCategoricalCrossentropy(from_logits=True),\n",
    "             optimizer=keras.optimizers.Adam(learning_rate=0.001),\n",
    "             metrics=['accuracy'])"
   ]
  },
  {
   "cell_type": "code",
   "execution_count": 14,
   "id": "697a9989",
   "metadata": {
    "scrolled": true
   },
   "outputs": [
    {
     "name": "stdout",
     "output_type": "stream",
     "text": [
      "Epoch 1/30\n",
      "1875/1875 - 5s - loss: 0.1872 - accuracy: 0.9429 - 5s/epoch - 3ms/step\n",
      "Epoch 2/30\n",
      "1875/1875 - 4s - loss: 0.0778 - accuracy: 0.9755 - 4s/epoch - 2ms/step\n",
      "Epoch 3/30\n",
      "1875/1875 - 5s - loss: 0.0575 - accuracy: 0.9815 - 5s/epoch - 2ms/step\n",
      "Epoch 4/30\n",
      "1875/1875 - 4s - loss: 0.0408 - accuracy: 0.9870 - 4s/epoch - 2ms/step\n",
      "Epoch 5/30\n",
      "1875/1875 - 5s - loss: 0.0334 - accuracy: 0.9894 - 5s/epoch - 2ms/step\n",
      "Epoch 6/30\n",
      "1875/1875 - 5s - loss: 0.0267 - accuracy: 0.9916 - 5s/epoch - 2ms/step\n",
      "Epoch 7/30\n",
      "1875/1875 - 4s - loss: 0.0247 - accuracy: 0.9923 - 4s/epoch - 2ms/step\n",
      "Epoch 8/30\n",
      "1875/1875 - 4s - loss: 0.0208 - accuracy: 0.9938 - 4s/epoch - 2ms/step\n",
      "Epoch 9/30\n",
      "1875/1875 - 4s - loss: 0.0190 - accuracy: 0.9939 - 4s/epoch - 2ms/step\n",
      "Epoch 10/30\n",
      "1875/1875 - 4s - loss: 0.0171 - accuracy: 0.9948 - 4s/epoch - 2ms/step\n",
      "Epoch 11/30\n",
      "1875/1875 - 4s - loss: 0.0163 - accuracy: 0.9949 - 4s/epoch - 2ms/step\n",
      "Epoch 12/30\n",
      "1875/1875 - 4s - loss: 0.0158 - accuracy: 0.9950 - 4s/epoch - 2ms/step\n",
      "Epoch 13/30\n",
      "1875/1875 - 4s - loss: 0.0154 - accuracy: 0.9956 - 4s/epoch - 2ms/step\n",
      "Epoch 14/30\n",
      "1875/1875 - 4s - loss: 0.0113 - accuracy: 0.9966 - 4s/epoch - 2ms/step\n",
      "Epoch 15/30\n",
      "1875/1875 - 4s - loss: 0.0122 - accuracy: 0.9960 - 4s/epoch - 2ms/step\n",
      "Epoch 16/30\n",
      "1875/1875 - 4s - loss: 0.0129 - accuracy: 0.9965 - 4s/epoch - 2ms/step\n",
      "Epoch 17/30\n",
      "1875/1875 - 4s - loss: 0.0140 - accuracy: 0.9962 - 4s/epoch - 2ms/step\n",
      "Epoch 18/30\n",
      "1875/1875 - 4s - loss: 0.0098 - accuracy: 0.9972 - 4s/epoch - 2ms/step\n",
      "Epoch 19/30\n",
      "1875/1875 - 4s - loss: 0.0142 - accuracy: 0.9959 - 4s/epoch - 2ms/step\n",
      "Epoch 20/30\n",
      "1875/1875 - 5s - loss: 0.0066 - accuracy: 0.9980 - 5s/epoch - 2ms/step\n",
      "Epoch 21/30\n",
      "1875/1875 - 4s - loss: 0.0138 - accuracy: 0.9961 - 4s/epoch - 2ms/step\n",
      "Epoch 22/30\n",
      "1875/1875 - 4s - loss: 0.0100 - accuracy: 0.9975 - 4s/epoch - 2ms/step\n",
      "Epoch 23/30\n",
      "1875/1875 - 5s - loss: 0.0106 - accuracy: 0.9971 - 5s/epoch - 2ms/step\n",
      "Epoch 24/30\n",
      "1875/1875 - 4s - loss: 0.0107 - accuracy: 0.9973 - 4s/epoch - 2ms/step\n",
      "Epoch 25/30\n",
      "1875/1875 - 5s - loss: 0.0110 - accuracy: 0.9974 - 5s/epoch - 3ms/step\n",
      "Epoch 26/30\n",
      "1875/1875 - 5s - loss: 0.0104 - accuracy: 0.9977 - 5s/epoch - 3ms/step\n",
      "Epoch 27/30\n",
      "1875/1875 - 5s - loss: 0.0101 - accuracy: 0.9975 - 5s/epoch - 3ms/step\n",
      "Epoch 28/30\n",
      "1875/1875 - 5s - loss: 0.0056 - accuracy: 0.9984 - 5s/epoch - 3ms/step\n",
      "Epoch 29/30\n",
      "1875/1875 - 5s - loss: 0.0089 - accuracy: 0.9979 - 5s/epoch - 2ms/step\n",
      "Epoch 30/30\n",
      "1875/1875 - 5s - loss: 0.0108 - accuracy: 0.9975 - 5s/epoch - 2ms/step\n"
     ]
    },
    {
     "data": {
      "text/plain": [
       "<keras.callbacks.History at 0x24205d8a6a0>"
      ]
     },
     "execution_count": 14,
     "metadata": {},
     "output_type": "execute_result"
    }
   ],
   "source": [
    "model.fit(x_train,y_train,batch_size=32,epochs=30,verbose=2)"
   ]
  },
  {
   "cell_type": "code",
   "execution_count": 16,
   "id": "8426f49a",
   "metadata": {},
   "outputs": [
    {
     "name": "stdout",
     "output_type": "stream",
     "text": [
      "313/313 - 0s - loss: 0.2068 - accuracy: 0.9802 - 358ms/epoch - 1ms/step\n"
     ]
    },
    {
     "data": {
      "text/plain": [
       "[0.20678061246871948, 0.9801999926567078]"
      ]
     },
     "execution_count": 16,
     "metadata": {},
     "output_type": "execute_result"
    }
   ],
   "source": [
    "model.evaluate(x_test,y_test,batch_size=32,verbose=2)"
   ]
  },
  {
   "cell_type": "markdown",
   "id": "4fe46cb4",
   "metadata": {},
   "source": [
    "如何得到特定层的输出细节"
   ]
  },
  {
   "cell_type": "code",
   "execution_count": 28,
   "id": "5d9f62da",
   "metadata": {},
   "outputs": [
    {
     "data": {
      "text/plain": [
       "(60000, 256)"
      ]
     },
     "execution_count": 28,
     "metadata": {},
     "output_type": "execute_result"
    }
   ],
   "source": [
    "model = keras.Model(inputs=model.inputs,\n",
    "                    outputs=model.layers[-2].output)\n",
    "feature = model.predict(x_train)\n",
    "feature.shape"
   ]
  },
  {
   "cell_type": "code",
   "execution_count": 35,
   "id": "41e29919",
   "metadata": {},
   "outputs": [
    {
     "data": {
      "text/plain": [
       "(60000, 256)"
      ]
     },
     "execution_count": 35,
     "metadata": {},
     "output_type": "execute_result"
    }
   ],
   "source": [
    "model = keras.Model(inputs=model.inputs,\n",
    "                    outputs=model.get_layer('second_layer').output)\n",
    "feature = model.predict(x_train)\n",
    "feature.shape"
   ]
  },
  {
   "cell_type": "markdown",
   "id": "a7b8c9dd",
   "metadata": {},
   "source": [
    "Functional API"
   ]
  },
  {
   "cell_type": "markdown",
   "id": "1425e9a1",
   "metadata": {},
   "source": [
    "functinal api比较灵活，可以支持多种输入，多种输出"
   ]
  },
  {
   "cell_type": "code",
   "execution_count": 23,
   "id": "53bca4c6",
   "metadata": {},
   "outputs": [],
   "source": [
    "inputs = keras.Input(shape=(784))\n",
    "x = layers.Dense(512,activation='relu',name='first_layer')(inputs)# name 可加可不加\n",
    "x= layers.Dense(256,activation='relu')(x)\n",
    "outputs= layers.Dense(10,activation='softmax')(x)\n",
    "model = keras.Model(inputs=inputs,outputs=outputs)"
   ]
  },
  {
   "cell_type": "code",
   "execution_count": 26,
   "id": "54c6ef9c",
   "metadata": {},
   "outputs": [
    {
     "ename": "AttributeError",
     "evalue": "'Functional' object has no attribute 'summmary'",
     "output_type": "error",
     "traceback": [
      "\u001b[1;31m---------------------------------------------------------------------------\u001b[0m",
      "\u001b[1;31mAttributeError\u001b[0m                            Traceback (most recent call last)",
      "\u001b[1;32m~\\AppData\\Local\\Temp/ipykernel_7028/4131098833.py\u001b[0m in \u001b[0;36m<module>\u001b[1;34m\u001b[0m\n\u001b[1;32m----> 1\u001b[1;33m \u001b[0mmodel\u001b[0m\u001b[1;33m.\u001b[0m\u001b[0msummmary\u001b[0m\u001b[1;33m(\u001b[0m\u001b[1;33m)\u001b[0m\u001b[1;33m\u001b[0m\u001b[1;33m\u001b[0m\u001b[0m\n\u001b[0m",
      "\u001b[1;31mAttributeError\u001b[0m: 'Functional' object has no attribute 'summmary'"
     ]
    }
   ],
   "source": [
    "model.summmary()"
   ]
  },
  {
   "cell_type": "code",
   "execution_count": 24,
   "id": "cfa7c88e",
   "metadata": {},
   "outputs": [],
   "source": [
    "model.compile(loss=keras.losses.SparseCategoricalCrossentropy(from_logits=False),\n",
    "             optimizer=keras.optimizers.Adam(learning_rate=0.001),\n",
    "             metrics=['accuracy'])"
   ]
  },
  {
   "cell_type": "code",
   "execution_count": 25,
   "id": "eaad7a3d",
   "metadata": {},
   "outputs": [
    {
     "name": "stdout",
     "output_type": "stream",
     "text": [
      "Epoch 1/5\n",
      "1875/1875 - 5s - loss: 0.1865 - accuracy: 0.9435 - 5s/epoch - 2ms/step\n",
      "Epoch 2/5\n",
      "1875/1875 - 4s - loss: 0.0790 - accuracy: 0.9751 - 4s/epoch - 2ms/step\n",
      "Epoch 3/5\n",
      "1875/1875 - 4s - loss: 0.0544 - accuracy: 0.9824 - 4s/epoch - 2ms/step\n",
      "Epoch 4/5\n",
      "1875/1875 - 5s - loss: 0.0416 - accuracy: 0.9866 - 5s/epoch - 2ms/step\n",
      "Epoch 5/5\n",
      "1875/1875 - 5s - loss: 0.0336 - accuracy: 0.9896 - 5s/epoch - 2ms/step\n"
     ]
    },
    {
     "data": {
      "text/plain": [
       "<keras.callbacks.History at 0x2420857d490>"
      ]
     },
     "execution_count": 25,
     "metadata": {},
     "output_type": "execute_result"
    }
   ],
   "source": [
    "model.fit(x_train,y_train,batch_size=32,epochs=5,verbose=2)"
   ]
  },
  {
   "cell_type": "code",
   "execution_count": null,
   "id": "634689f1",
   "metadata": {},
   "outputs": [],
   "source": []
  }
 ],
 "metadata": {
  "kernelspec": {
   "display_name": "Python 3 (ipykernel)",
   "language": "python",
   "name": "python3"
  },
  "language_info": {
   "codemirror_mode": {
    "name": "ipython",
    "version": 3
   },
   "file_extension": ".py",
   "mimetype": "text/x-python",
   "name": "python",
   "nbconvert_exporter": "python",
   "pygments_lexer": "ipython3",
   "version": "3.9.7"
  }
 },
 "nbformat": 4,
 "nbformat_minor": 5
}
