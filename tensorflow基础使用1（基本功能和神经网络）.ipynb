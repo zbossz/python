{
 "cells": [
  {
   "cell_type": "code",
   "execution_count": 1,
   "id": "10333ccb",
   "metadata": {},
   "outputs": [
    {
     "data": {
      "text/plain": [
       "<module 'tensorflow._api.v2.version' from 'C:\\\\Users\\\\zzy\\\\anaconda3\\\\lib\\\\site-packages\\\\tensorflow\\\\_api\\\\v2\\\\version\\\\__init__.py'>"
      ]
     },
     "execution_count": 1,
     "metadata": {},
     "output_type": "execute_result"
    }
   ],
   "source": [
    "import tensorflow as tf\n",
    "tf.version"
   ]
  },
  {
   "cell_type": "code",
   "execution_count": 3,
   "id": "daef9c2e",
   "metadata": {},
   "outputs": [
    {
     "data": {
      "text/plain": [
       "<tf.Tensor: shape=(1, 1), dtype=float32, numpy=array([[4.]], dtype=float32)>"
      ]
     },
     "execution_count": 3,
     "metadata": {},
     "output_type": "execute_result"
    }
   ],
   "source": [
    "x = tf.constant(4,shape=(1,1),dtype=tf.float32)\n",
    "x"
   ]
  },
  {
   "cell_type": "code",
   "execution_count": 4,
   "id": "cb3b3482",
   "metadata": {},
   "outputs": [
    {
     "data": {
      "text/plain": [
       "<tf.Tensor: shape=(2, 3), dtype=int32, numpy=\n",
       "array([[1, 2, 3],\n",
       "       [4, 5, 6]])>"
      ]
     },
     "execution_count": 4,
     "metadata": {},
     "output_type": "execute_result"
    }
   ],
   "source": [
    "tf.constant([[1,2,3],[4,5,6]])"
   ]
  },
  {
   "cell_type": "code",
   "execution_count": 62,
   "id": "ed54cb0e",
   "metadata": {
    "scrolled": true
   },
   "outputs": [
    {
     "data": {
      "text/plain": [
       "<tf.Tensor: shape=(3,), dtype=string, numpy=array([b'zbossz', b'marry', b'Cupid'], dtype=object)>"
      ]
     },
     "execution_count": 62,
     "metadata": {},
     "output_type": "execute_result"
    }
   ],
   "source": [
    "tf.constant([\"zbossz\",\"marry\",\"Cupid\"])"
   ]
  },
  {
   "cell_type": "markdown",
   "id": "3c1d73ab",
   "metadata": {},
   "source": [
    "注意，这里所有的constant代表常量"
   ]
  },
  {
   "cell_type": "code",
   "execution_count": 63,
   "id": "4642d1f5",
   "metadata": {},
   "outputs": [
    {
     "data": {
      "text/plain": [
       "<tf.Variable 'Variable:0' shape=(3,) dtype=int32, numpy=array([4, 5, 6])>"
      ]
     },
     "execution_count": 63,
     "metadata": {},
     "output_type": "execute_result"
    }
   ],
   "source": [
    "tf.Variable([4,5,6])"
   ]
  },
  {
   "cell_type": "markdown",
   "id": "d3f031ff",
   "metadata": {},
   "source": [
    "variable是变量的意思"
   ]
  },
  {
   "cell_type": "code",
   "execution_count": 6,
   "id": "beed6d0e",
   "metadata": {},
   "outputs": [
    {
     "data": {
      "text/plain": [
       "<tf.Tensor: shape=(3, 3), dtype=float32, numpy=\n",
       "array([[1., 1., 1.],\n",
       "       [1., 1., 1.],\n",
       "       [1., 1., 1.]], dtype=float32)>"
      ]
     },
     "execution_count": 6,
     "metadata": {},
     "output_type": "execute_result"
    }
   ],
   "source": [
    "tf.ones((3,3))"
   ]
  },
  {
   "cell_type": "code",
   "execution_count": 7,
   "id": "74247a4c",
   "metadata": {},
   "outputs": [
    {
     "data": {
      "text/plain": [
       "<tf.Tensor: shape=(3, 3), dtype=float32, numpy=\n",
       "array([[0., 0., 0.],\n",
       "       [0., 0., 0.],\n",
       "       [0., 0., 0.]], dtype=float32)>"
      ]
     },
     "execution_count": 7,
     "metadata": {},
     "output_type": "execute_result"
    }
   ],
   "source": [
    "tf.zeros((3,3))"
   ]
  },
  {
   "cell_type": "code",
   "execution_count": 9,
   "id": "e705fce2",
   "metadata": {},
   "outputs": [
    {
     "data": {
      "text/plain": [
       "<tf.Tensor: shape=(3, 3), dtype=float32, numpy=\n",
       "array([[1., 0., 0.],\n",
       "       [0., 1., 0.],\n",
       "       [0., 0., 1.]], dtype=float32)>"
      ]
     },
     "execution_count": 9,
     "metadata": {},
     "output_type": "execute_result"
    }
   ],
   "source": [
    "tf.eye(3)"
   ]
  },
  {
   "cell_type": "code",
   "execution_count": 10,
   "id": "79eddf24",
   "metadata": {},
   "outputs": [
    {
     "data": {
      "text/plain": [
       "<tf.Tensor: shape=(4, 4), dtype=float32, numpy=\n",
       "array([[1., 0., 0., 0.],\n",
       "       [0., 1., 0., 0.],\n",
       "       [0., 0., 1., 0.],\n",
       "       [0., 0., 0., 1.]], dtype=float32)>"
      ]
     },
     "execution_count": 10,
     "metadata": {},
     "output_type": "execute_result"
    }
   ],
   "source": [
    "tf.eye(4)"
   ]
  },
  {
   "cell_type": "code",
   "execution_count": 11,
   "id": "7b41bb85",
   "metadata": {},
   "outputs": [
    {
     "data": {
      "text/plain": [
       "<tf.Tensor: shape=(3, 3), dtype=float32, numpy=\n",
       "array([[-0.39415023,  0.9187496 , -1.0163281 ],\n",
       "       [ 1.3778778 ,  1.5528482 , -0.43905407],\n",
       "       [ 0.6430218 ,  0.7979284 ,  0.23025912]], dtype=float32)>"
      ]
     },
     "execution_count": 11,
     "metadata": {},
     "output_type": "execute_result"
    }
   ],
   "source": [
    "tf.random.normal((3,3),mean=0,stddev=1)"
   ]
  },
  {
   "cell_type": "code",
   "execution_count": 14,
   "id": "bc35445c",
   "metadata": {},
   "outputs": [
    {
     "data": {
      "text/plain": [
       "<tf.Tensor: shape=(3, 3), dtype=float32, numpy=\n",
       "array([[0.968534  , 0.8107693 , 0.9459957 ],\n",
       "       [0.5923699 , 0.895699  , 0.01323187],\n",
       "       [0.53778946, 0.5806519 , 0.9964875 ]], dtype=float32)>"
      ]
     },
     "execution_count": 14,
     "metadata": {},
     "output_type": "execute_result"
    }
   ],
   "source": [
    "tf.random.uniform((3,3),minval=0,maxval=1)#minvalue=0,maxvalue=1"
   ]
  },
  {
   "cell_type": "code",
   "execution_count": 17,
   "id": "265b6f9f",
   "metadata": {},
   "outputs": [
    {
     "data": {
      "text/plain": [
       "<tf.Tensor: shape=(10,), dtype=int32, numpy=array([0, 1, 2, 3, 4, 5, 6, 7, 8, 9])>"
      ]
     },
     "execution_count": 17,
     "metadata": {},
     "output_type": "execute_result"
    }
   ],
   "source": [
    "x=tf.range(10)\n",
    "x"
   ]
  },
  {
   "cell_type": "code",
   "execution_count": 18,
   "id": "b806bbeb",
   "metadata": {},
   "outputs": [
    {
     "data": {
      "text/plain": [
       "<tf.Tensor: shape=(10,), dtype=float32, numpy=array([0., 1., 2., 3., 4., 5., 6., 7., 8., 9.], dtype=float32)>"
      ]
     },
     "execution_count": 18,
     "metadata": {},
     "output_type": "execute_result"
    }
   ],
   "source": [
    "tf.cast(x,dtype=tf.float32)"
   ]
  },
  {
   "cell_type": "code",
   "execution_count": 19,
   "id": "938ec18b",
   "metadata": {},
   "outputs": [],
   "source": [
    "x=tf.constant([1,2,3])\n",
    "y=tf.constant([4,5,6])"
   ]
  },
  {
   "cell_type": "code",
   "execution_count": 21,
   "id": "e1ea20c0",
   "metadata": {},
   "outputs": [
    {
     "name": "stdout",
     "output_type": "stream",
     "text": [
      "z1:[5 7 9];z2:[5 7 9]\n"
     ]
    }
   ],
   "source": [
    "z1= tf.add(x,y)\n",
    "z2=x+y\n",
    "print('z1:{};z2:{}'.format(z1,z2))"
   ]
  },
  {
   "cell_type": "code",
   "execution_count": 22,
   "id": "662cad34",
   "metadata": {},
   "outputs": [
    {
     "name": "stdout",
     "output_type": "stream",
     "text": [
      "z1:[-3 -3 -3];z2:[-3 -3 -3]\n"
     ]
    }
   ],
   "source": [
    "z1= tf.subtract(x,y)\n",
    "z2=x-y\n",
    "print('z1:{};z2:{}'.format(z1,z2))"
   ]
  },
  {
   "cell_type": "code",
   "execution_count": 23,
   "id": "1dbd73c0",
   "metadata": {},
   "outputs": [
    {
     "name": "stdout",
     "output_type": "stream",
     "text": [
      "z1:[0.25 0.4  0.5 ];z2:[0.25 0.4  0.5 ]\n"
     ]
    }
   ],
   "source": [
    "z1= tf.divide(x,y)\n",
    "z2=x / y\n",
    "print('z1:{};z2:{}'.format(z1,z2))"
   ]
  },
  {
   "cell_type": "code",
   "execution_count": 24,
   "id": "9e868ace",
   "metadata": {},
   "outputs": [
    {
     "name": "stdout",
     "output_type": "stream",
     "text": [
      "z1:[ 4 10 18];z2:[ 4 10 18]\n"
     ]
    }
   ],
   "source": [
    "z1= tf.multiply(x,y)\n",
    "z2=x * y\n",
    "print('z1:{};z2:{}'.format(z1,z2))"
   ]
  },
  {
   "cell_type": "code",
   "execution_count": 25,
   "id": "f8a97c10",
   "metadata": {},
   "outputs": [
    {
     "name": "stdout",
     "output_type": "stream",
     "text": [
      "tf.Tensor(32, shape=(), dtype=int32)\n"
     ]
    }
   ],
   "source": [
    "z= tf.tensordot(x,y,axes=1)\n",
    "print(z)"
   ]
  },
  {
   "cell_type": "markdown",
   "id": "836acf02",
   "metadata": {},
   "source": [
    "1* 4+2* 5+3* 6=32"
   ]
  },
  {
   "cell_type": "code",
   "execution_count": 26,
   "id": "e5e9079c",
   "metadata": {},
   "outputs": [
    {
     "data": {
      "text/plain": [
       "<tf.Tensor: shape=(3,), dtype=int32, numpy=array([ 1,  8, 27])>"
      ]
     },
     "execution_count": 26,
     "metadata": {},
     "output_type": "execute_result"
    }
   ],
   "source": [
    "x**3"
   ]
  },
  {
   "cell_type": "markdown",
   "id": "3bcf30fa",
   "metadata": {},
   "source": [
    "# 矩阵的乘法"
   ]
  },
  {
   "cell_type": "markdown",
   "id": "3d9e0060",
   "metadata": {},
   "source": [
    "创建随机矩阵"
   ]
  },
  {
   "cell_type": "code",
   "execution_count": 29,
   "id": "7e22404f",
   "metadata": {},
   "outputs": [
    {
     "name": "stdout",
     "output_type": "stream",
     "text": [
      "tf.Tensor(\n",
      "[[ 1.0700945   0.25503522 -0.03719738]\n",
      " [-1.2954848   1.2198136  -0.96517885]], shape=(2, 3), dtype=float32) tf.Tensor(\n",
      "[[-1.0646838  -0.04674882  0.03930401  0.7774619 ]\n",
      " [ 0.7224349  -1.5929068   0.08993963 -1.3023261 ]\n",
      " [ 0.05410028 -0.712241    0.4037231   1.3835891 ]], shape=(3, 4), dtype=float32)\n"
     ]
    }
   ],
   "source": [
    "x=tf.random.normal((2,3))\n",
    "y=tf.random.normal((3,4))\n",
    "print(x,y)"
   ]
  },
  {
   "cell_type": "markdown",
   "id": "b74aa510",
   "metadata": {},
   "source": [
    "矩阵相乘"
   ]
  },
  {
   "cell_type": "code",
   "execution_count": 30,
   "id": "ed92c214",
   "metadata": {},
   "outputs": [
    {
     "name": "stdout",
     "output_type": "stream",
     "text": [
      "tf.Tensor(\n",
      "[[-0.9570783  -0.4297795   0.04997934  0.44835272]\n",
      " [ 2.208301   -1.1950471  -0.33087313 -3.9311962 ]], shape=(2, 4), dtype=float32)\n"
     ]
    }
   ],
   "source": [
    "z=tf.matmul(x,y)\n",
    "print(z)"
   ]
  },
  {
   "cell_type": "code",
   "execution_count": 31,
   "id": "2e225334",
   "metadata": {},
   "outputs": [
    {
     "data": {
      "text/plain": [
       "<tf.Tensor: shape=(2, 4), dtype=float32, numpy=\n",
       "array([[-0.9570783 , -0.4297795 ,  0.04997934,  0.44835272],\n",
       "       [ 2.208301  , -1.1950471 , -0.33087313, -3.9311962 ]],\n",
       "      dtype=float32)>"
      ]
     },
     "execution_count": 31,
     "metadata": {},
     "output_type": "execute_result"
    }
   ],
   "source": [
    "x@y"
   ]
  },
  {
   "cell_type": "markdown",
   "id": "25595581",
   "metadata": {},
   "source": [
    "# 张量的访问"
   ]
  },
  {
   "cell_type": "code",
   "execution_count": 39,
   "id": "bbdefc94",
   "metadata": {},
   "outputs": [],
   "source": [
    "x=tf.constant([[1,2,3,4],[5,6,7,8]])"
   ]
  },
  {
   "cell_type": "code",
   "execution_count": 40,
   "id": "98118722",
   "metadata": {},
   "outputs": [
    {
     "data": {
      "text/plain": [
       "<tf.Tensor: shape=(4,), dtype=int32, numpy=array([1, 2, 3, 4])>"
      ]
     },
     "execution_count": 40,
     "metadata": {},
     "output_type": "execute_result"
    }
   ],
   "source": [
    "x[0]"
   ]
  },
  {
   "cell_type": "code",
   "execution_count": 41,
   "id": "db2abe1e",
   "metadata": {},
   "outputs": [
    {
     "data": {
      "text/plain": [
       "<tf.Tensor: shape=(4,), dtype=int32, numpy=array([1, 2, 3, 4])>"
      ]
     },
     "execution_count": 41,
     "metadata": {},
     "output_type": "execute_result"
    }
   ],
   "source": [
    "x[0,:]"
   ]
  },
  {
   "cell_type": "code",
   "execution_count": 45,
   "id": "ebe82cf4",
   "metadata": {},
   "outputs": [
    {
     "data": {
      "text/plain": [
       "<tf.Tensor: shape=(2,), dtype=int32, numpy=array([2, 3])>"
      ]
     },
     "execution_count": 45,
     "metadata": {},
     "output_type": "execute_result"
    }
   ],
   "source": [
    "x[0,1:3]"
   ]
  },
  {
   "cell_type": "code",
   "execution_count": 42,
   "id": "d86b9e62",
   "metadata": {},
   "outputs": [
    {
     "data": {
      "text/plain": [
       "<tf.Tensor: shape=(), dtype=int32, numpy=1>"
      ]
     },
     "execution_count": 42,
     "metadata": {},
     "output_type": "execute_result"
    }
   ],
   "source": [
    "x[0][0]"
   ]
  },
  {
   "cell_type": "code",
   "execution_count": 43,
   "id": "6d3611f7",
   "metadata": {},
   "outputs": [
    {
     "data": {
      "text/plain": [
       "<tf.Tensor: shape=(), dtype=int32, numpy=1>"
      ]
     },
     "execution_count": 43,
     "metadata": {},
     "output_type": "execute_result"
    }
   ],
   "source": [
    "x[0,0]"
   ]
  },
  {
   "cell_type": "code",
   "execution_count": 44,
   "id": "63f3d3eb",
   "metadata": {},
   "outputs": [
    {
     "data": {
      "text/plain": [
       "<tf.Tensor: shape=(2,), dtype=int32, numpy=array([1, 5])>"
      ]
     },
     "execution_count": 44,
     "metadata": {},
     "output_type": "execute_result"
    }
   ],
   "source": [
    "x[:,0]"
   ]
  },
  {
   "cell_type": "markdown",
   "id": "a69691a7",
   "metadata": {},
   "source": [
    "# 矩阵的变形"
   ]
  },
  {
   "cell_type": "code",
   "execution_count": 46,
   "id": "678d2528",
   "metadata": {},
   "outputs": [
    {
     "data": {
      "text/plain": [
       "<tf.Tensor: shape=(2, 3), dtype=float32, numpy=\n",
       "array([[ 1.2173736 , -1.0279529 ,  0.7915916 ],\n",
       "       [-1.3893502 , -0.3546672 , -0.04333335]], dtype=float32)>"
      ]
     },
     "execution_count": 46,
     "metadata": {},
     "output_type": "execute_result"
    }
   ],
   "source": [
    "x= tf.random.normal((2,3))\n",
    "x"
   ]
  },
  {
   "cell_type": "code",
   "execution_count": 48,
   "id": "a02fabda",
   "metadata": {},
   "outputs": [
    {
     "data": {
      "text/plain": [
       "<tf.Tensor: shape=(3, 2), dtype=float32, numpy=\n",
       "array([[ 1.2173736 , -1.0279529 ],\n",
       "       [ 0.7915916 , -1.3893502 ],\n",
       "       [-0.3546672 , -0.04333335]], dtype=float32)>"
      ]
     },
     "execution_count": 48,
     "metadata": {},
     "output_type": "execute_result"
    }
   ],
   "source": [
    "x=tf.reshape(x,(3,2))\n",
    "x"
   ]
  },
  {
   "cell_type": "code",
   "execution_count": 49,
   "id": "fcb2e52b",
   "metadata": {},
   "outputs": [
    {
     "data": {
      "text/plain": [
       "<tf.Tensor: shape=(6,), dtype=float32, numpy=\n",
       "array([ 1.2173736 , -1.0279529 ,  0.7915916 , -1.3893502 , -0.3546672 ,\n",
       "       -0.04333335], dtype=float32)>"
      ]
     },
     "execution_count": 49,
     "metadata": {},
     "output_type": "execute_result"
    }
   ],
   "source": [
    "x=tf.reshape(x,(6))\n",
    "x"
   ]
  },
  {
   "cell_type": "code",
   "execution_count": 50,
   "id": "6751da07",
   "metadata": {},
   "outputs": [
    {
     "data": {
      "text/plain": [
       "<tf.Tensor: shape=(2, 3), dtype=float32, numpy=\n",
       "array([[ 1.2173736 , -1.0279529 ,  0.7915916 ],\n",
       "       [-1.3893502 , -0.3546672 , -0.04333335]], dtype=float32)>"
      ]
     },
     "execution_count": 50,
     "metadata": {},
     "output_type": "execute_result"
    }
   ],
   "source": [
    "x=tf.reshape(x,(-1,3))\n",
    "x"
   ]
  },
  {
   "cell_type": "markdown",
   "id": "8928ad16",
   "metadata": {},
   "source": [
    "-1的部分，编译器会自动推理出，应该填什么。<br/>\n",
    "这里填的是2"
   ]
  },
  {
   "cell_type": "markdown",
   "id": "dd6137af",
   "metadata": {},
   "source": [
    "# numpy与tensor之间的转换"
   ]
  },
  {
   "cell_type": "code",
   "execution_count": 55,
   "id": "71722e73",
   "metadata": {},
   "outputs": [
    {
     "name": "stdout",
     "output_type": "stream",
     "text": [
      "tf.Tensor(\n",
      "[[1 2 3]\n",
      " [4 5 6]], shape=(2, 3), dtype=int32)\n",
      "<class 'tensorflow.python.framework.ops.EagerTensor'>\n",
      "\n",
      "[[1 2 3]\n",
      " [4 5 6]]\n",
      "<class 'numpy.ndarray'>\n"
     ]
    }
   ],
   "source": [
    "x=tf.constant([[1,2,3],[4,5,6]])\n",
    "print(x)\n",
    "print(type(x))\n",
    "print()\n",
    "x=x.numpy()\n",
    "print(x)\n",
    "print(type(x))"
   ]
  },
  {
   "cell_type": "code",
   "execution_count": 57,
   "id": "2f56a9da",
   "metadata": {},
   "outputs": [
    {
     "data": {
      "text/plain": [
       "tensorflow.python.framework.ops.EagerTensor"
      ]
     },
     "execution_count": 57,
     "metadata": {},
     "output_type": "execute_result"
    }
   ],
   "source": [
    "x=tf.convert_to_tensor(x)\n",
    "type(x)"
   ]
  },
  {
   "cell_type": "markdown",
   "id": "f4f02d8c",
   "metadata": {},
   "source": [
    "# tf.keras"
   ]
  },
  {
   "cell_type": "markdown",
   "id": "06050834",
   "metadata": {},
   "source": [
    "# 手写数字数据集的训练"
   ]
  },
  {
   "cell_type": "code",
   "execution_count": 64,
   "id": "2a57bd69",
   "metadata": {},
   "outputs": [],
   "source": [
    "from tensorflow import keras\n",
    "import numpy as np\n",
    "import matplotlib.pyplot as plt"
   ]
  },
  {
   "cell_type": "code",
   "execution_count": 65,
   "id": "594dd305",
   "metadata": {},
   "outputs": [],
   "source": [
    "mnist = keras.datasets.mnist"
   ]
  },
  {
   "cell_type": "code",
   "execution_count": 66,
   "id": "4da624c4",
   "metadata": {},
   "outputs": [
    {
     "name": "stdout",
     "output_type": "stream",
     "text": [
      "Downloading data from https://storage.googleapis.com/tensorflow/tf-keras-datasets/mnist.npz\n",
      "11493376/11490434 [==============================] - 3s 0us/step\n",
      "11501568/11490434 [==============================] - 3s 0us/step\n",
      "(60000, 28, 28) (60000,)\n"
     ]
    }
   ],
   "source": [
    "(x_train,y_train),(x_test,y_test)=mnist.load_data()\n",
    "print(x_train.shape,y_train.shape)"
   ]
  },
  {
   "cell_type": "code",
   "execution_count": 67,
   "id": "a9425ae3",
   "metadata": {},
   "outputs": [],
   "source": [
    "x_train,x_test=x_train/255.0,x_test/255.0"
   ]
  },
  {
   "cell_type": "code",
   "execution_count": 69,
   "id": "80c7e239",
   "metadata": {
    "scrolled": true
   },
   "outputs": [
    {
     "data": {
      "image/png": "[encoded data removed]",
      "text/plain": [
       "<Figure size 432x288 with 6 Axes>"
      ]
     },
     "metadata": {
      "needs_background": "light"
     },
     "output_type": "display_data"
    }
   ],
   "source": [
    "for i in range(6):\n",
    "    plt.subplot(2,3,i+1)\n",
    "    plt.imshow(x_train[i],cmap='gray')\n",
    "plt.show()"
   ]
  },
  {
   "cell_type": "markdown",
   "id": "0ea3bb8b",
   "metadata": {},
   "source": [
    "## 方法一 "
   ]
  },
  {
   "cell_type": "code",
   "execution_count": 71,
   "id": "533c87cf",
   "metadata": {},
   "outputs": [
    {
     "name": "stdout",
     "output_type": "stream",
     "text": [
      "Model: \"sequential_1\"\n",
      "_________________________________________________________________\n",
      " Layer (type)                Output Shape              Param #   \n",
      "=================================================================\n",
      " flatten_1 (Flatten)         (None, 784)               0         \n",
      "                                                                 \n",
      " dense_2 (Dense)             (None, 128)               100480    \n",
      "                                                                 \n",
      " dense_3 (Dense)             (None, 10)                1290      \n",
      "                                                                 \n",
      "=================================================================\n",
      "Total params: 101,770\n",
      "Trainable params: 101,770\n",
      "Non-trainable params: 0\n",
      "_________________________________________________________________\n"
     ]
    }
   ],
   "source": [
    "model = keras.models.Sequential([\n",
    "    keras.layers.Flatten(input_shape=(28,28)),\n",
    "    keras.layers.Dense(128,activation='relu'),\n",
    "    keras.layers.Dense(10)#10是因为数字是0到9，一共10个输出\n",
    "])\n",
    "model.summary()"
   ]
  },
  {
   "cell_type": "markdown",
   "id": "e75f9864",
   "metadata": {},
   "source": [
    "## 方法二 "
   ]
  },
  {
   "cell_type": "code",
   "execution_count": 72,
   "id": "a2a64156",
   "metadata": {},
   "outputs": [
    {
     "name": "stdout",
     "output_type": "stream",
     "text": [
      "Model: \"sequential_2\"\n",
      "_________________________________________________________________\n",
      " Layer (type)                Output Shape              Param #   \n",
      "=================================================================\n",
      " flatten_2 (Flatten)         (None, 784)               0         \n",
      "                                                                 \n",
      "=================================================================\n",
      "Total params: 0\n",
      "Trainable params: 0\n",
      "Non-trainable params: 0\n",
      "_________________________________________________________________\n"
     ]
    }
   ],
   "source": [
    "model = keras.Sequential()\n",
    "model.add(keras.layers.Flatten(input_shape=(28,28)))\n",
    "model.summary()"
   ]
  },
  {
   "cell_type": "code",
   "execution_count": 73,
   "id": "485b16aa",
   "metadata": {},
   "outputs": [
    {
     "name": "stdout",
     "output_type": "stream",
     "text": [
      "Model: \"sequential_2\"\n",
      "_________________________________________________________________\n",
      " Layer (type)                Output Shape              Param #   \n",
      "=================================================================\n",
      " flatten_2 (Flatten)         (None, 784)               0         \n",
      "                                                                 \n",
      " dense_4 (Dense)             (None, 128)               100480    \n",
      "                                                                 \n",
      "=================================================================\n",
      "Total params: 100,480\n",
      "Trainable params: 100,480\n",
      "Non-trainable params: 0\n",
      "_________________________________________________________________\n"
     ]
    }
   ],
   "source": [
    "model.add(keras.layers.Dense(128,activation='relu'))\n",
    "model.summary()"
   ]
  },
  {
   "cell_type": "code",
   "execution_count": 74,
   "id": "2d2ee81c",
   "metadata": {},
   "outputs": [
    {
     "name": "stdout",
     "output_type": "stream",
     "text": [
      "Model: \"sequential_2\"\n",
      "_________________________________________________________________\n",
      " Layer (type)                Output Shape              Param #   \n",
      "=================================================================\n",
      " flatten_2 (Flatten)         (None, 784)               0         \n",
      "                                                                 \n",
      " dense_4 (Dense)             (None, 128)               100480    \n",
      "                                                                 \n",
      " dense_5 (Dense)             (None, 10)                1290      \n",
      "                                                                 \n",
      "=================================================================\n",
      "Total params: 101,770\n",
      "Trainable params: 101,770\n",
      "Non-trainable params: 0\n",
      "_________________________________________________________________\n"
     ]
    }
   ],
   "source": [
    "model.add(keras.layers.Dense(10))\n",
    "model.summary()"
   ]
  },
  {
   "cell_type": "markdown",
   "id": "6cf1d402",
   "metadata": {},
   "source": [
    "损失器"
   ]
  },
  {
   "cell_type": "code",
   "execution_count": 75,
   "id": "f2c9bc47",
   "metadata": {},
   "outputs": [],
   "source": [
    "loss=keras.losses.SparseCategoricalCrossentropy(from_logits=True)"
   ]
  },
  {
   "cell_type": "markdown",
   "id": "a856bdd8",
   "metadata": {},
   "source": [
    "优化器"
   ]
  },
  {
   "cell_type": "code",
   "execution_count": 76,
   "id": "34b179b8",
   "metadata": {},
   "outputs": [],
   "source": [
    "optim=keras.optimizers.Adam(learning_rate=0.001)"
   ]
  },
  {
   "cell_type": "markdown",
   "id": "f04e91e6",
   "metadata": {},
   "source": [
    "指标"
   ]
  },
  {
   "cell_type": "code",
   "execution_count": 77,
   "id": "15d6e2be",
   "metadata": {},
   "outputs": [],
   "source": [
    "metrics=['accuracy']"
   ]
  },
  {
   "cell_type": "markdown",
   "id": "c49ab42b",
   "metadata": {},
   "source": [
    "配置模型"
   ]
  },
  {
   "cell_type": "code",
   "execution_count": 78,
   "id": "d2c461d9",
   "metadata": {},
   "outputs": [],
   "source": [
    "model.compile(loss=loss,optimizer=optim,metrics=metrics)"
   ]
  },
  {
   "cell_type": "markdown",
   "id": "b8c60962",
   "metadata": {},
   "source": [
    "训练"
   ]
  },
  {
   "cell_type": "code",
   "execution_count": 79,
   "id": "909a7e6c",
   "metadata": {},
   "outputs": [],
   "source": [
    "batch_size =64\n",
    "epochs=5"
   ]
  },
  {
   "cell_type": "code",
   "execution_count": 80,
   "id": "094f20ed",
   "metadata": {},
   "outputs": [
    {
     "name": "stdout",
     "output_type": "stream",
     "text": [
      "Epoch 1/5\n",
      "938/938 - 1s - loss: 0.3041 - accuracy: 0.9140 - 1s/epoch - 1ms/step\n",
      "Epoch 2/5\n",
      "938/938 - 1s - loss: 0.1419 - accuracy: 0.9589 - 1s/epoch - 1ms/step\n",
      "Epoch 3/5\n",
      "938/938 - 1s - loss: 0.0991 - accuracy: 0.9709 - 988ms/epoch - 1ms/step\n",
      "Epoch 4/5\n",
      "938/938 - 1s - loss: 0.0756 - accuracy: 0.9778 - 994ms/epoch - 1ms/step\n",
      "Epoch 5/5\n",
      "938/938 - 1s - loss: 0.0589 - accuracy: 0.9826 - 956ms/epoch - 1ms/step\n"
     ]
    },
    {
     "data": {
      "text/plain": [
       "<keras.callbacks.History at 0x1f33e0370d0>"
      ]
     },
     "execution_count": 80,
     "metadata": {},
     "output_type": "execute_result"
    }
   ],
   "source": [
    "model.fit(x_train,y_train,batch_size=batch_size,epochs=epochs,shuffle=True,verbose=2)"
   ]
  },
  {
   "cell_type": "code",
   "execution_count": 81,
   "id": "5bc49c35",
   "metadata": {},
   "outputs": [
    {
     "name": "stdout",
     "output_type": "stream",
     "text": [
      "Epoch 1/5\n",
      "938/938 [==============================] - 1s 1ms/step - loss: 0.0466 - accuracy: 0.9860\n",
      "Epoch 2/5\n",
      "938/938 [==============================] - 1s 1ms/step - loss: 0.0379 - accuracy: 0.9885\n",
      "Epoch 3/5\n",
      "938/938 [==============================] - 1s 1ms/step - loss: 0.0306 - accuracy: 0.9911\n",
      "Epoch 4/5\n",
      "938/938 [==============================] - 1s 1ms/step - loss: 0.0248 - accuracy: 0.9929\n",
      "Epoch 5/5\n",
      "938/938 [==============================] - 1s 1ms/step - loss: 0.0210 - accuracy: 0.9940\n"
     ]
    },
    {
     "data": {
      "text/plain": [
       "<keras.callbacks.History at 0x1f33ca5e820>"
      ]
     },
     "execution_count": 81,
     "metadata": {},
     "output_type": "execute_result"
    }
   ],
   "source": [
    "model.fit(x_train,y_train,batch_size=batch_size,epochs=epochs,shuffle=True,verbose=1)"
   ]
  },
  {
   "cell_type": "code",
   "execution_count": 82,
   "id": "6da20129",
   "metadata": {},
   "outputs": [
    {
     "data": {
      "text/plain": [
       "<keras.callbacks.History at 0x1f33c635fa0>"
      ]
     },
     "execution_count": 82,
     "metadata": {},
     "output_type": "execute_result"
    }
   ],
   "source": [
    "model.fit(x_train,y_train,batch_size=batch_size,epochs=epochs,shuffle=True,verbose=0)"
   ]
  },
  {
   "cell_type": "markdown",
   "id": "52359eba",
   "metadata": {},
   "source": [
    "评估模型"
   ]
  },
  {
   "cell_type": "code",
   "execution_count": 84,
   "id": "581c1ba7",
   "metadata": {},
   "outputs": [
    {
     "name": "stdout",
     "output_type": "stream",
     "text": [
      "157/157 - 0s - loss: 0.0929 - accuracy: 0.9751 - 213ms/epoch - 1ms/step\n"
     ]
    },
    {
     "data": {
      "text/plain": [
       "[0.09290449321269989, 0.9750999808311462]"
      ]
     },
     "execution_count": 84,
     "metadata": {},
     "output_type": "execute_result"
    }
   ],
   "source": [
    "model.evaluate(x_test,y_test,batch_size=batch_size,verbose=2)"
   ]
  },
  {
   "cell_type": "markdown",
   "id": "0b3f2fe5",
   "metadata": {},
   "source": [
    "预测"
   ]
  },
  {
   "cell_type": "code",
   "execution_count": 85,
   "id": "3e4d05e8",
   "metadata": {},
   "outputs": [
    {
     "data": {
      "text/plain": [
       "<tf.Tensor: shape=(10,), dtype=float32, numpy=\n",
       "array([5.5549447e-11, 8.8793698e-14, 2.2551443e-08, 4.7224507e-06,\n",
       "       1.9827966e-15, 8.2633206e-12, 9.4965886e-17, 9.9999523e-01,\n",
       "       1.2906602e-09, 4.7874178e-08], dtype=float32)>"
      ]
     },
     "execution_count": 85,
     "metadata": {},
     "output_type": "execute_result"
    }
   ],
   "source": [
    "probablility_model=keras.models.Sequential([\n",
    "    model,\n",
    "    keras.layers.Softmax()\n",
    "])\n",
    "prediction=probablility_model(x_test)\n",
    "pred0=prediction[0]\n",
    "pred0"
   ]
  },
  {
   "cell_type": "code",
   "execution_count": 86,
   "id": "586b32b9",
   "metadata": {},
   "outputs": [
    {
     "data": {
      "text/plain": [
       "7"
      ]
     },
     "execution_count": 86,
     "metadata": {},
     "output_type": "execute_result"
    }
   ],
   "source": [
    "label0=np.argmax(pred0)\n",
    "label0"
   ]
  },
  {
   "cell_type": "markdown",
   "id": "6240b036",
   "metadata": {},
   "source": [
    "9.9999523e-01的索引位置是7"
   ]
  },
  {
   "cell_type": "code",
   "execution_count": 91,
   "id": "d9c6b0aa",
   "metadata": {},
   "outputs": [
    {
     "name": "stdout",
     "output_type": "stream",
     "text": [
      "tf.Tensor(\n",
      "[5.5549447e-11 8.8793698e-14 2.2551443e-08 4.7224507e-06 1.9827966e-15\n",
      " 8.2633206e-12 9.4965886e-17 9.9999523e-01 1.2906602e-09 4.7874178e-08], shape=(10,), dtype=float32)\n",
      "7\n"
     ]
    }
   ],
   "source": [
    "prediction1=model(x_test)\n",
    "prediction1=tf.nn.softmax(prediction1)\n",
    "pred1=prediction1[0]\n",
    "label1=np.argmax(pred1)\n",
    "print(pred1)\n",
    "print(label1)"
   ]
  },
  {
   "cell_type": "code",
   "execution_count": 92,
   "id": "8c53e15c",
   "metadata": {},
   "outputs": [
    {
     "name": "stdout",
     "output_type": "stream",
     "text": [
      "tf.Tensor(\n",
      "[5.5549447e-11 8.8793868e-14 2.2551443e-08 4.7224462e-06 1.9827966e-15\n",
      " 8.2633362e-12 9.4966250e-17 9.9999523e-01 1.2906578e-09 4.7874085e-08], shape=(10,), dtype=float32)\n",
      "7\n"
     ]
    }
   ],
   "source": [
    "prediction2=model.predict(x_test,batch_size=batch_size)\n",
    "prediction2=tf.nn.softmax(prediction2)\n",
    "pred2=prediction2[0]\n",
    "label2=np.argmax(pred2)\n",
    "print(pred2)\n",
    "print(label2)"
   ]
  },
  {
   "cell_type": "code",
   "execution_count": 94,
   "id": "a1c714d3",
   "metadata": {},
   "outputs": [
    {
     "name": "stdout",
     "output_type": "stream",
     "text": [
      "(5, 10)\n",
      "[7 2 1 0 4]\n"
     ]
    }
   ],
   "source": [
    "preds25=prediction2[0:5]\n",
    "print(preds25.shape)\n",
    "labels25=np.argmax(preds25,axis=1)\n",
    "print(labels25)"
   ]
  },
  {
   "cell_type": "markdown",
   "id": "18a5ae3c",
   "metadata": {},
   "source": [
    "上面是预测的准确度最大的五个的索引"
   ]
  },
  {
   "cell_type": "code",
   "execution_count": null,
   "id": "42acc9a8",
   "metadata": {},
   "outputs": [],
   "source": []
  }
 ],
 "metadata": {
  "kernelspec": {
   "display_name": "Python 3 (ipykernel)",
   "language": "python",
   "name": "python3"
  },
  "language_info": {
   "codemirror_mode": {
    "name": "ipython",
    "version": 3
   },
   "file_extension": ".py",
   "mimetype": "text/x-python",
   "name": "python",
   "nbconvert_exporter": "python",
   "pygments_lexer": "ipython3",
   "version": "3.9.7"
  }
 },
 "nbformat": 4,
 "nbformat_minor": 5
}
