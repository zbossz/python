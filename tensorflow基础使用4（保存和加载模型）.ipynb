{
 "cells": [
  {
   "cell_type": "code",
   "execution_count": 2,
   "id": "00ad9b0c",
   "metadata": {},
   "outputs": [],
   "source": [
    "from tensorflow import keras\n",
    "import numpy as np\n",
    "import matplotlib.pyplot as plt"
   ]
  },
  {
   "cell_type": "code",
   "execution_count": 3,
   "id": "0e9e0b04",
   "metadata": {},
   "outputs": [],
   "source": [
    "mnist = keras.datasets.mnist"
   ]
  },
  {
   "cell_type": "code",
   "execution_count": 4,
   "id": "ab8ff67d",
   "metadata": {},
   "outputs": [
    {
     "name": "stdout",
     "output_type": "stream",
     "text": [
      "(60000, 28, 28) (60000,)\n"
     ]
    }
   ],
   "source": [
    "(x_train,y_train),(x_test,y_test)=mnist.load_data()\n",
    "print(x_train.shape,y_train.shape)"
   ]
  },
  {
   "cell_type": "code",
   "execution_count": 5,
   "id": "f5a2b212",
   "metadata": {},
   "outputs": [],
   "source": [
    "x_train,x_test=x_train/255.0,x_test/255.0"
   ]
  },
  {
   "cell_type": "code",
   "execution_count": 6,
   "id": "3d654ad7",
   "metadata": {},
   "outputs": [
    {
     "data": {
      "image/png": "[encoded data removed]",
      "text/plain": [
       "<Figure size 432x288 with 6 Axes>"
      ]
     },
     "metadata": {
      "needs_background": "light"
     },
     "output_type": "display_data"
    }
   ],
   "source": [
    "for i in range(6):\n",
    "    plt.subplot(2,3,i+1)\n",
    "    plt.imshow(x_train[i],cmap='gray')\n",
    "plt.show()"
   ]
  },
  {
   "cell_type": "code",
   "execution_count": 7,
   "id": "4f10bbc1",
   "metadata": {},
   "outputs": [
    {
     "name": "stdout",
     "output_type": "stream",
     "text": [
      "Model: \"sequential\"\n",
      "_________________________________________________________________\n",
      " Layer (type)                Output Shape              Param #   \n",
      "=================================================================\n",
      " flatten (Flatten)           (None, 784)               0         \n",
      "                                                                 \n",
      " dense (Dense)               (None, 128)               100480    \n",
      "                                                                 \n",
      " dense_1 (Dense)             (None, 10)                1290      \n",
      "                                                                 \n",
      "=================================================================\n",
      "Total params: 101,770\n",
      "Trainable params: 101,770\n",
      "Non-trainable params: 0\n",
      "_________________________________________________________________\n"
     ]
    }
   ],
   "source": [
    "model = keras.models.Sequential([\n",
    "    keras.layers.Flatten(input_shape=(28,28)),\n",
    "    keras.layers.Dense(128,activation='relu'),\n",
    "    keras.layers.Dense(10)#10是因为数字是0到9，一共10个输出\n",
    "])\n",
    "model.summary()"
   ]
  },
  {
   "cell_type": "code",
   "execution_count": 8,
   "id": "f57219c5",
   "metadata": {},
   "outputs": [],
   "source": [
    "loss=keras.losses.SparseCategoricalCrossentropy(from_logits=True)\n",
    "optim=keras.optimizers.Adam(learning_rate=0.001)\n",
    "metrics=['accuracy']\n",
    "model.compile(loss=loss,optimizer=optim,metrics=metrics)"
   ]
  },
  {
   "cell_type": "code",
   "execution_count": 9,
   "id": "f826ec58",
   "metadata": {},
   "outputs": [
    {
     "name": "stdout",
     "output_type": "stream",
     "text": [
      "Epoch 1/5\n",
      "938/938 - 1s - loss: 0.3026 - accuracy: 0.9145 - 1s/epoch - 1ms/step\n",
      "Epoch 2/5\n",
      "938/938 - 1s - loss: 0.1327 - accuracy: 0.9611 - 962ms/epoch - 1ms/step\n",
      "Epoch 3/5\n",
      "938/938 - 1s - loss: 0.0919 - accuracy: 0.9732 - 1s/epoch - 1ms/step\n",
      "Epoch 4/5\n",
      "938/938 - 1s - loss: 0.0691 - accuracy: 0.9801 - 983ms/epoch - 1ms/step\n",
      "Epoch 5/5\n",
      "938/938 - 1s - loss: 0.0542 - accuracy: 0.9846 - 944ms/epoch - 1ms/step\n"
     ]
    },
    {
     "data": {
      "text/plain": [
       "<keras.callbacks.History at 0x1b7706cc8e0>"
      ]
     },
     "execution_count": 9,
     "metadata": {},
     "output_type": "execute_result"
    }
   ],
   "source": [
    "batch_size =64\n",
    "epochs=5\n",
    "model.fit(x_train,y_train,batch_size=batch_size,epochs=epochs,shuffle=True,verbose=2)"
   ]
  },
  {
   "cell_type": "code",
   "execution_count": 10,
   "id": "cd6f985d",
   "metadata": {},
   "outputs": [
    {
     "name": "stdout",
     "output_type": "stream",
     "text": [
      "157/157 - 0s - loss: 0.0821 - accuracy: 0.9738 - 215ms/epoch - 1ms/step\n"
     ]
    },
    {
     "data": {
      "text/plain": [
       "[0.08210436254739761, 0.973800003528595]"
      ]
     },
     "execution_count": 10,
     "metadata": {},
     "output_type": "execute_result"
    }
   ],
   "source": [
    "model.evaluate(x_test,y_test,batch_size=batch_size,verbose=2)"
   ]
  },
  {
   "cell_type": "markdown",
   "id": "5ffc6015",
   "metadata": {},
   "source": [
    "# 保存模型"
   ]
  },
  {
   "cell_type": "markdown",
   "id": "a322f477",
   "metadata": {},
   "source": [
    "有SavedModel方式，也有HDF5<br/>\n",
    "SavedModel:'文件名'<br/>\n",
    "HDF5:'文件名.h5'<br/>"
   ]
  },
  {
   "cell_type": "code",
   "execution_count": 11,
   "id": "00e70010",
   "metadata": {},
   "outputs": [
    {
     "name": "stdout",
     "output_type": "stream",
     "text": [
      "INFO:tensorflow:Assets written to: nn2\\assets\n"
     ]
    }
   ],
   "source": [
    "model.save('nn1.h5')\n",
    "model.save('nn2')"
   ]
  },
  {
   "cell_type": "markdown",
   "id": "ec9b0f6e",
   "metadata": {},
   "source": [
    "# 使用保存的模型"
   ]
  },
  {
   "cell_type": "code",
   "execution_count": 12,
   "id": "4ad5c8ee",
   "metadata": {},
   "outputs": [
    {
     "name": "stdout",
     "output_type": "stream",
     "text": [
      "157/157 - 0s - loss: 0.0821 - accuracy: 0.9738 - 119ms/epoch - 758us/step\n"
     ]
    },
    {
     "data": {
      "text/plain": [
       "[0.08210436254739761, 0.973800003528595]"
      ]
     },
     "execution_count": 12,
     "metadata": {},
     "output_type": "execute_result"
    }
   ],
   "source": [
    "new_model=keras.models.load_model('nn1.h5')\n",
    "model.evaluate(x_test,y_test,batch_size=batch_size,verbose=2)"
   ]
  },
  {
   "cell_type": "markdown",
   "id": "a7c8c221",
   "metadata": {},
   "source": [
    "保存权重"
   ]
  },
  {
   "cell_type": "code",
   "execution_count": 13,
   "id": "66c47def",
   "metadata": {},
   "outputs": [],
   "source": [
    "model.save_weights(\"nn.\")"
   ]
  },
  {
   "cell_type": "markdown",
   "id": "738518ee",
   "metadata": {},
   "source": [
    "保存架构"
   ]
  },
  {
   "cell_type": "code",
   "execution_count": 14,
   "id": "2e2684dd",
   "metadata": {},
   "outputs": [],
   "source": [
    "json_string = model.to_json()\n",
    "\n",
    "with open(\"nn_model.json\",\"w\") as f:\n",
    "    f.write(json_string)\n"
   ]
  },
  {
   "cell_type": "markdown",
   "id": "aa2fdcc8",
   "metadata": {},
   "source": [
    "读取架构"
   ]
  },
  {
   "cell_type": "code",
   "execution_count": 16,
   "id": "74513cae",
   "metadata": {},
   "outputs": [],
   "source": [
    "with open(\"nn_model.json\",\"r\") as f:\n",
    "    loaded_json_string = f.read()\n",
    "    "
   ]
  },
  {
   "cell_type": "markdown",
   "id": "5d5662ab",
   "metadata": {},
   "source": [
    "使用架构训练"
   ]
  },
  {
   "cell_type": "code",
   "execution_count": 17,
   "id": "bdfb5207",
   "metadata": {},
   "outputs": [
    {
     "name": "stdout",
     "output_type": "stream",
     "text": [
      "Model: \"sequential\"\n",
      "_________________________________________________________________\n",
      " Layer (type)                Output Shape              Param #   \n",
      "=================================================================\n",
      " flatten (Flatten)           (None, 784)               0         \n",
      "                                                                 \n",
      " dense (Dense)               (None, 128)               100480    \n",
      "                                                                 \n",
      " dense_1 (Dense)             (None, 10)                1290      \n",
      "                                                                 \n",
      "=================================================================\n",
      "Total params: 101,770\n",
      "Trainable params: 101,770\n",
      "Non-trainable params: 0\n",
      "_________________________________________________________________\n",
      "None\n"
     ]
    }
   ],
   "source": [
    "new_model = keras.models.model_from_json(loaded_json_string)\n",
    "print(new_model.summary())"
   ]
  },
  {
   "cell_type": "code",
   "execution_count": null,
   "id": "186b8b3a",
   "metadata": {},
   "outputs": [],
   "source": []
  }
 ],
 "metadata": {
  "kernelspec": {
   "display_name": "Python 3 (ipykernel)",
   "language": "python",
   "name": "python3"
  },
  "language_info": {
   "codemirror_mode": {
    "name": "ipython",
    "version": 3
   },
   "file_extension": ".py",
   "mimetype": "text/x-python",
   "name": "python",
   "nbconvert_exporter": "python",
   "pygments_lexer": "ipython3",
   "version": "3.9.7"
  }
 },
 "nbformat": 4,
 "nbformat_minor": 5
}
