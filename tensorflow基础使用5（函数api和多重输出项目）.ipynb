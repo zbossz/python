{
 "cells": [
  {
   "cell_type": "code",
   "execution_count": 1,
   "id": "dad120c9",
   "metadata": {},
   "outputs": [],
   "source": [
    "import tensorflow as tf\n",
    "from tensorflow import keras\n",
    "import numpy as np"
   ]
  },
  {
   "cell_type": "markdown",
   "id": "b355cd23",
   "metadata": {},
   "source": [
    "a->b->c   sequencial   顺序"
   ]
  },
  {
   "cell_type": "code",
   "execution_count": 2,
   "id": "2297e14f",
   "metadata": {},
   "outputs": [
    {
     "name": "stdout",
     "output_type": "stream",
     "text": [
      "Model: \"sequential\"\n",
      "_________________________________________________________________\n",
      " Layer (type)                Output Shape              Param #   \n",
      "=================================================================\n",
      " flatten (Flatten)           (None, 784)               0         \n",
      "                                                                 \n",
      " dense (Dense)               (None, 128)               100480    \n",
      "                                                                 \n",
      " dense_1 (Dense)             (None, 10)                1290      \n",
      "                                                                 \n",
      "=================================================================\n",
      "Total params: 101,770\n",
      "Trainable params: 101,770\n",
      "Non-trainable params: 0\n",
      "_________________________________________________________________\n",
      "None\n"
     ]
    }
   ],
   "source": [
    "model = keras.models.Sequential([\n",
    "    keras.layers.Flatten(input_shape=(28,28)),\n",
    "    keras.layers.Dense(128,activation='relu'),\n",
    "    keras.layers.Dense(10)\n",
    "])\n",
    "print(model.summary())"
   ]
  },
  {
   "cell_type": "markdown",
   "id": "49f35fc0",
   "metadata": {},
   "source": [
    "a->b->c functional_api"
   ]
  },
  {
   "cell_type": "code",
   "execution_count": 3,
   "id": "6fe61d0e",
   "metadata": {},
   "outputs": [
    {
     "name": "stdout",
     "output_type": "stream",
     "text": [
      "Model: \"functional_model\"\n",
      "_________________________________________________________________\n",
      " Layer (type)                Output Shape              Param #   \n",
      "=================================================================\n",
      " input_1 (InputLayer)        [(None, 28, 28)]          0         \n",
      "                                                                 \n",
      " flatten_1 (Flatten)         (None, 784)               0         \n",
      "                                                                 \n",
      " dense_2 (Dense)             (None, 128)               100480    \n",
      "                                                                 \n",
      " dense_3 (Dense)             (None, 10)                1290      \n",
      "                                                                 \n",
      "=================================================================\n",
      "Total params: 101,770\n",
      "Trainable params: 101,770\n",
      "Non-trainable params: 0\n",
      "_________________________________________________________________\n",
      "None\n"
     ]
    }
   ],
   "source": [
    "inputs = keras.Input(shape=(28,28))\n",
    "flatten = keras.layers.Flatten()\n",
    "dense1 = keras.layers.Dense(128,activation='relu')\n",
    "dense2 = keras.layers.Dense(10)\n",
    "\n",
    "x=flatten(inputs)\n",
    "x=dense1(x)\n",
    "outputs = dense2(x)\n",
    "\n",
    "model = keras.Model(inputs=inputs,outputs=outputs,name='functional_model')\n",
    "\n",
    "print(model.summary())"
   ]
  },
  {
   "cell_type": "markdown",
   "id": "afa04520",
   "metadata": {},
   "source": [
    "a->b->c<br>\n",
    "&nbsp;&nbsp;&nbsp;&nbsp;&nbsp;&nbsp;&nbsp;&nbsp;->d<br>\n",
    "一个输入2个输出"
   ]
  },
  {
   "cell_type": "code",
   "execution_count": 4,
   "id": "49e1c950",
   "metadata": {},
   "outputs": [
    {
     "name": "stdout",
     "output_type": "stream",
     "text": [
      "Model: \"functional_model\"\n",
      "__________________________________________________________________________________________________\n",
      " Layer (type)                   Output Shape         Param #     Connected to                     \n",
      "==================================================================================================\n",
      " input_2 (InputLayer)           [(None, 28, 28)]     0           []                               \n",
      "                                                                                                  \n",
      " flatten_2 (Flatten)            (None, 784)          0           ['input_2[0][0]']                \n",
      "                                                                                                  \n",
      " dense_4 (Dense)                (None, 128)          100480      ['flatten_2[0][0]']              \n",
      "                                                                                                  \n",
      " dense_5 (Dense)                (None, 10)           1290        ['dense_4[0][0]']                \n",
      "                                                                                                  \n",
      " dense_6 (Dense)                (None, 1)            129         ['dense_4[0][0]']                \n",
      "                                                                                                  \n",
      "==================================================================================================\n",
      "Total params: 101,899\n",
      "Trainable params: 101,899\n",
      "Non-trainable params: 0\n",
      "__________________________________________________________________________________________________\n",
      "None\n"
     ]
    }
   ],
   "source": [
    "inputs = keras.Input(shape=(28,28))\n",
    "flatten = keras.layers.Flatten()\n",
    "dense1 = keras.layers.Dense(128,activation='relu')\n",
    "dense2 = keras.layers.Dense(10)\n",
    "dense2_2 = keras.layers.Dense(1)\n",
    "\n",
    "x=flatten(inputs)\n",
    "x=dense1(x)\n",
    "outputs = dense2(x)\n",
    "outputs2 = dense2_2(x)\n",
    "\n",
    "model = keras.Model(inputs=inputs,outputs=[outputs,outputs2],name='functional_model')\n",
    "\n",
    "print(model.summary())"
   ]
  },
  {
   "cell_type": "markdown",
   "id": "e86622ab",
   "metadata": {},
   "source": [
    "a->b->c<br>\n",
    "d-><br>\n",
    "2个输入1个输出"
   ]
  },
  {
   "cell_type": "code",
   "execution_count": 5,
   "id": "e09ff989",
   "metadata": {},
   "outputs": [
    {
     "name": "stdout",
     "output_type": "stream",
     "text": [
      "Model: \"functional_model\"\n",
      "__________________________________________________________________________________________________\n",
      " Layer (type)                   Output Shape         Param #     Connected to                     \n",
      "==================================================================================================\n",
      " input_3 (InputLayer)           [(None, 28, 28)]     0           []                               \n",
      "                                                                                                  \n",
      " flatten_3 (Flatten)            (None, 784)          0           ['input_3[0][0]']                \n",
      "                                                                                                  \n",
      " dense_7 (Dense)                (None, 128)          100480      ['flatten_3[0][0]']              \n",
      "                                                                                                  \n",
      " input_4 (InputLayer)           [(None, 25, 25)]     0           []                               \n",
      "                                                                                                  \n",
      " dense_8 (Dense)                (None, 10)           1290        ['dense_7[0][0]']                \n",
      "                                                                                                  \n",
      "==================================================================================================\n",
      "Total params: 101,770\n",
      "Trainable params: 101,770\n",
      "Non-trainable params: 0\n",
      "__________________________________________________________________________________________________\n",
      "None\n"
     ]
    }
   ],
   "source": [
    "inputs = keras.Input(shape=(28,28))\n",
    "inputs2 = keras.Input(shape=(25,25))\n",
    "flatten = keras.layers.Flatten()\n",
    "dense1 = keras.layers.Dense(128,activation='relu')\n",
    "dense2 = keras.layers.Dense(10)\n",
    "dense2_2 = keras.layers.Dense(1)\n",
    "\n",
    "x=flatten(inputs)\n",
    "x=dense1(x)\n",
    "outputs = dense2(x)\n",
    "\n",
    "model = keras.Model(inputs=[inputs,inputs2],outputs=outputs,name='functional_model')\n",
    "\n",
    "print(model.summary())"
   ]
  },
  {
   "cell_type": "markdown",
   "id": "4c4c743c",
   "metadata": {},
   "source": [
    "如何转换func to seq "
   ]
  },
  {
   "cell_type": "markdown",
   "id": "53b02af8",
   "metadata": {},
   "source": [
    "这个转换只适合linear模型，也就是a->b->c这种"
   ]
  },
  {
   "cell_type": "code",
   "execution_count": null,
   "id": "b3219b7b",
   "metadata": {},
   "outputs": [],
   "source": [
    "new_model = keras.models.Sequential()\n",
    "for layer in model.layers:\n",
    "    new_model.add(layer)"
   ]
  },
  {
   "cell_type": "markdown",
   "id": "5617d2d2",
   "metadata": {},
   "source": [
    "如何转换sq to fc"
   ]
  },
  {
   "cell_type": "code",
   "execution_count": null,
   "id": "1dbed23c",
   "metadata": {},
   "outputs": [],
   "source": [
    "inputs = keras.Input(shape=(28,28))\n",
    "x = new_model.layers[0](inputs)\n",
    "for layer in new_model.layers[1:]:  #这里其实非常灵活，我们可以不选择所有的层，我们可以选用其中几层\n",
    "    x=layer(x)\n",
    "outputs = x\n",
    "model = keras.Model(inputs=inputs,outputs=outputs,name='functional_model')"
   ]
  },
  {
   "cell_type": "markdown",
   "id": "ba998306",
   "metadata": {},
   "source": [
    "如何得到模组的输入和输出"
   ]
  },
  {
   "cell_type": "code",
   "execution_count": null,
   "id": "98ebe01b",
   "metadata": {},
   "outputs": [],
   "source": [
    "inputs = model.inputs\n",
    "outputs = model.outputs"
   ]
  },
  {
   "cell_type": "markdown",
   "id": "586a41eb",
   "metadata": {},
   "source": [
    "如何得到特定层的输入和输出"
   ]
  },
  {
   "cell_type": "code",
   "execution_count": null,
   "id": "ce04b2b9",
   "metadata": {},
   "outputs": [],
   "source": [
    "input0 = model.layers[0].input\n",
    "output0 = model.layers[0].output"
   ]
  },
  {
   "cell_type": "code",
   "execution_count": null,
   "id": "9e2d00eb",
   "metadata": {},
   "outputs": [],
   "source": []
  },
  {
   "cell_type": "code",
   "execution_count": null,
   "id": "4016a26a",
   "metadata": {},
   "outputs": [],
   "source": []
  },
  {
   "cell_type": "code",
   "execution_count": null,
   "id": "03712f10",
   "metadata": {},
   "outputs": [],
   "source": []
  }
 ],
 "metadata": {
  "kernelspec": {
   "display_name": "Python 3 (ipykernel)",
   "language": "python",
   "name": "python3"
  },
  "language_info": {
   "codemirror_mode": {
    "name": "ipython",
    "version": 3
   },
   "file_extension": ".py",
   "mimetype": "text/x-python",
   "name": "python",
   "nbconvert_exporter": "python",
   "pygments_lexer": "ipython3",
   "version": "3.9.7"
  }
 },
 "nbformat": 4,
 "nbformat_minor": 5
}
