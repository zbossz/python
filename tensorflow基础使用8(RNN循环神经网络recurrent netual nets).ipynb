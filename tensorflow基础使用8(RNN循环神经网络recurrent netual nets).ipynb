{
 "cells": [
  {
   "cell_type": "code",
   "execution_count": 1,
   "id": "25f60c09",
   "metadata": {},
   "outputs": [],
   "source": [
    "import tensorflow as tf\n",
    "from tensorflow import keras\n",
    "from tensorflow.keras import layers"
   ]
  },
  {
   "cell_type": "code",
   "execution_count": 2,
   "id": "7e03d58a",
   "metadata": {},
   "outputs": [],
   "source": [
    "mnist = keras.datasets.mnist"
   ]
  },
  {
   "cell_type": "code",
   "execution_count": 3,
   "id": "38cd5f6a",
   "metadata": {},
   "outputs": [],
   "source": [
    "(x_train,y_train),(x_test,y_test) = mnist.load_data()\n",
    "x_train,x_test = x_train/255.0,x_test/255.0"
   ]
  },
  {
   "cell_type": "code",
   "execution_count": 4,
   "id": "d5f2f541",
   "metadata": {},
   "outputs": [],
   "source": [
    "model = keras.models.Sequential([\n",
    "    keras.layers.Flatten(input_shape=(28,28)),\n",
    "    keras.layers.Dense(128,activation='relu'),\n",
    "    keras.layers.Dense(10)\n",
    "])"
   ]
  },
  {
   "cell_type": "code",
   "execution_count": 5,
   "id": "50ad6151",
   "metadata": {},
   "outputs": [
    {
     "name": "stdout",
     "output_type": "stream",
     "text": [
      "Model: \"sequential\"\n",
      "_________________________________________________________________\n",
      " Layer (type)                Output Shape              Param #   \n",
      "=================================================================\n",
      " flatten (Flatten)           (None, 784)               0         \n",
      "                                                                 \n",
      " dense (Dense)               (None, 128)               100480    \n",
      "                                                                 \n",
      " dense_1 (Dense)             (None, 10)                1290      \n",
      "                                                                 \n",
      "=================================================================\n",
      "Total params: 101,770\n",
      "Trainable params: 101,770\n",
      "Non-trainable params: 0\n",
      "_________________________________________________________________\n",
      "None\n"
     ]
    }
   ],
   "source": [
    "print(model.summary())"
   ]
  },
  {
   "cell_type": "code",
   "execution_count": 6,
   "id": "afac8de1",
   "metadata": {},
   "outputs": [],
   "source": [
    "loss = keras.losses.SparseCategoricalCrossentropy(from_logits=True)\n",
    "optim=keras.optimizers.Adam(learning_rate=0.001)\n",
    "metrics = [\"accuracy\"]\n",
    "model.compile(optimizer=optim,loss=loss,metrics=metrics)"
   ]
  },
  {
   "cell_type": "code",
   "execution_count": 9,
   "id": "3275bb09",
   "metadata": {},
   "outputs": [],
   "source": [
    "batch_size=64\n",
    "epochs = 30"
   ]
  },
  {
   "cell_type": "code",
   "execution_count": 14,
   "id": "d12747b2",
   "metadata": {},
   "outputs": [
    {
     "name": "stdout",
     "output_type": "stream",
     "text": [
      "Epoch 1/30\n",
      "938/938 - 1s - loss: 0.0015 - accuracy: 0.9995 - 896ms/epoch - 955us/step\n",
      "Epoch 2/30\n",
      "938/938 - 1s - loss: 6.2307e-05 - accuracy: 1.0000 - 1s/epoch - 1ms/step\n",
      "Epoch 3/30\n",
      "938/938 - 1s - loss: 3.2786e-05 - accuracy: 1.0000 - 897ms/epoch - 956us/step\n",
      "Epoch 4/30\n",
      "938/938 - 1s - loss: 2.4252e-05 - accuracy: 1.0000 - 938ms/epoch - 1ms/step\n",
      "Epoch 5/30\n",
      "938/938 - 1s - loss: 1.9367e-05 - accuracy: 1.0000 - 891ms/epoch - 950us/step\n",
      "Epoch 6/30\n",
      "938/938 - 1s - loss: 1.5650e-05 - accuracy: 1.0000 - 886ms/epoch - 945us/step\n",
      "Epoch 7/30\n",
      "938/938 - 1s - loss: 1.2545e-05 - accuracy: 1.0000 - 950ms/epoch - 1ms/step\n",
      "Epoch 8/30\n",
      "938/938 - 1s - loss: 1.0379e-05 - accuracy: 1.0000 - 895ms/epoch - 954us/step\n",
      "Epoch 9/30\n",
      "938/938 - 1s - loss: 0.0057 - accuracy: 0.9986 - 884ms/epoch - 943us/step\n",
      "Epoch 10/30\n",
      "938/938 - 1s - loss: 0.0038 - accuracy: 0.9988 - 934ms/epoch - 996us/step\n",
      "Epoch 11/30\n",
      "938/938 - 1s - loss: 7.7682e-04 - accuracy: 0.9997 - 947ms/epoch - 1ms/step\n",
      "Epoch 12/30\n",
      "938/938 - 1s - loss: 0.0034 - accuracy: 0.9991 - 891ms/epoch - 949us/step\n",
      "Epoch 13/30\n",
      "938/938 - 1s - loss: 0.0021 - accuracy: 0.9994 - 887ms/epoch - 946us/step\n",
      "Epoch 00013: early stopping\n"
     ]
    }
   ],
   "source": [
    "#keras回调\n",
    "early_stopping= keras.callbacks.EarlyStopping(\n",
    "    monitor=\"loss\",\n",
    "    patience=5,\n",
    "    verbose=2\n",
    ")\n",
    "history = model.fit(\n",
    "                    x_train,\n",
    "                    y_train,\n",
    "                    batch_size=batch_size,\n",
    "                    callbacks=[early_stopping],\n",
    "                    epochs=epochs,\n",
    "                    verbose=2)"
   ]
  },
  {
   "cell_type": "markdown",
   "id": "8727bcd8",
   "metadata": {},
   "source": [
    "接下来我们将model框架的神经网络变成循环神经网络"
   ]
  },
  {
   "cell_type": "code",
   "execution_count": 22,
   "id": "fb872907",
   "metadata": {},
   "outputs": [
    {
     "name": "stdout",
     "output_type": "stream",
     "text": [
      "Model: \"sequential_5\"\n",
      "_________________________________________________________________\n",
      " Layer (type)                Output Shape              Param #   \n",
      "=================================================================\n",
      " simple_rnn_5 (SimpleRNN)    (None, 128)               20096     \n",
      "                                                                 \n",
      " dense_5 (Dense)             (None, 10)                1290      \n",
      "                                                                 \n",
      "=================================================================\n",
      "Total params: 21,386\n",
      "Trainable params: 21,386\n",
      "Non-trainable params: 0\n",
      "_________________________________________________________________\n",
      "None\n"
     ]
    }
   ],
   "source": [
    "model=keras.models.Sequential()\n",
    "model.add(keras.Input(shape=(28,28))) # 前面是序列长度（sequentia长度）后面是input_size\n",
    "model.add(layers.SimpleRNN(128,activation='relu')) #128是隐藏单元的大小\n",
    "model.add(layers.Dense(10))\n",
    "print(model.summary())"
   ]
  },
  {
   "cell_type": "code",
   "execution_count": 23,
   "id": "c86d7357",
   "metadata": {},
   "outputs": [
    {
     "name": "stdout",
     "output_type": "stream",
     "text": [
      "Model: \"sequential_6\"\n",
      "_________________________________________________________________\n",
      " Layer (type)                Output Shape              Param #   \n",
      "=================================================================\n",
      " simple_rnn_6 (SimpleRNN)    (None, 28, 128)           20096     \n",
      "                                                                 \n",
      " simple_rnn_7 (SimpleRNN)    (None, 128)               32896     \n",
      "                                                                 \n",
      " dense_6 (Dense)             (None, 10)                1290      \n",
      "                                                                 \n",
      "=================================================================\n",
      "Total params: 54,282\n",
      "Trainable params: 54,282\n",
      "Non-trainable params: 0\n",
      "_________________________________________________________________\n",
      "None\n"
     ]
    }
   ],
   "source": [
    "model=keras.models.Sequential()\n",
    "model.add(keras.Input(shape=(28,28))) # 前面是序列长度（sequentia长度）后面是input_size\n",
    "#除了SimpleRNN，还有LTSM和GRU都是非常著名的rnn框架，而且他们的参数几乎一样\n",
    "model.add(layers.SimpleRNN(128,return_sequences=True,activation='relu')) #128是隐藏单元的大小\n",
    "model.add(layers.SimpleRNN(128,return_sequences=False,activation='relu')) #128是隐藏单元的大小\n",
    "model.add(layers.Dense(10))\n",
    "print(model.summary())"
   ]
  },
  {
   "cell_type": "code",
   "execution_count": 18,
   "id": "bfef9cf0",
   "metadata": {},
   "outputs": [],
   "source": [
    "loss = keras.losses.SparseCategoricalCrossentropy(from_logits=True)\n",
    "optim=keras.optimizers.Adam(learning_rate=0.001)\n",
    "metrics = [\"accuracy\"]\n",
    "model.compile(optimizer=optim,loss=loss,metrics=metrics)"
   ]
  },
  {
   "cell_type": "code",
   "execution_count": 19,
   "id": "5ea52b3d",
   "metadata": {},
   "outputs": [],
   "source": [
    "batch_size=64\n",
    "epochs = 30"
   ]
  },
  {
   "cell_type": "code",
   "execution_count": 20,
   "id": "7991ce5c",
   "metadata": {},
   "outputs": [
    {
     "name": "stdout",
     "output_type": "stream",
     "text": [
      "Epoch 1/30\n",
      "938/938 - 9s - loss: 0.3483 - accuracy: 0.8904 - 9s/epoch - 10ms/step\n",
      "Epoch 2/30\n",
      "938/938 - 8s - loss: 0.1258 - accuracy: 0.9641 - 8s/epoch - 9ms/step\n",
      "Epoch 3/30\n",
      "938/938 - 8s - loss: 0.1033 - accuracy: 0.9705 - 8s/epoch - 9ms/step\n",
      "Epoch 4/30\n",
      "938/938 - 10s - loss: 0.0886 - accuracy: 0.9740 - 10s/epoch - 11ms/step\n",
      "Epoch 5/30\n",
      "938/938 - 10s - loss: 0.0844 - accuracy: 0.9758 - 10s/epoch - 10ms/step\n",
      "Epoch 6/30\n",
      "938/938 - 9s - loss: 0.0734 - accuracy: 0.9791 - 9s/epoch - 10ms/step\n",
      "Epoch 7/30\n",
      "938/938 - 9s - loss: 0.0734 - accuracy: 0.9793 - 9s/epoch - 10ms/step\n",
      "Epoch 8/30\n",
      "938/938 - 8s - loss: 0.0684 - accuracy: 0.9807 - 8s/epoch - 9ms/step\n",
      "Epoch 9/30\n",
      "938/938 - 8s - loss: 0.0634 - accuracy: 0.9821 - 8s/epoch - 9ms/step\n",
      "Epoch 10/30\n",
      "938/938 - 8s - loss: 0.0578 - accuracy: 0.9837 - 8s/epoch - 9ms/step\n",
      "Epoch 11/30\n",
      "938/938 - 9s - loss: 0.0568 - accuracy: 0.9843 - 9s/epoch - 9ms/step\n",
      "Epoch 12/30\n",
      "938/938 - 8s - loss: 0.0539 - accuracy: 0.9851 - 8s/epoch - 9ms/step\n",
      "Epoch 13/30\n",
      "938/938 - 9s - loss: 0.0568 - accuracy: 0.9836 - 9s/epoch - 10ms/step\n",
      "Epoch 14/30\n",
      "938/938 - 9s - loss: 0.0567 - accuracy: 0.9844 - 9s/epoch - 10ms/step\n",
      "Epoch 15/30\n",
      "938/938 - 8s - loss: 0.0474 - accuracy: 0.9867 - 8s/epoch - 9ms/step\n",
      "Epoch 16/30\n",
      "938/938 - 9s - loss: 0.0460 - accuracy: 0.9868 - 9s/epoch - 10ms/step\n",
      "Epoch 17/30\n",
      "938/938 - 8s - loss: 0.0552 - accuracy: 0.9847 - 8s/epoch - 9ms/step\n",
      "Epoch 18/30\n",
      "938/938 - 8s - loss: 0.0460 - accuracy: 0.9870 - 8s/epoch - 9ms/step\n",
      "Epoch 19/30\n",
      "938/938 - 9s - loss: 0.0432 - accuracy: 0.9876 - 9s/epoch - 10ms/step\n",
      "Epoch 20/30\n",
      "938/938 - 8s - loss: 0.0403 - accuracy: 0.9884 - 8s/epoch - 9ms/step\n",
      "Epoch 21/30\n",
      "938/938 - 8s - loss: 0.0407 - accuracy: 0.9882 - 8s/epoch - 9ms/step\n",
      "Epoch 22/30\n",
      "938/938 - 10s - loss: 0.0385 - accuracy: 0.9885 - 10s/epoch - 10ms/step\n",
      "Epoch 23/30\n",
      "938/938 - 8s - loss: 0.0423 - accuracy: 0.9884 - 8s/epoch - 9ms/step\n",
      "Epoch 24/30\n",
      "938/938 - 8s - loss: 0.0442 - accuracy: 0.9873 - 8s/epoch - 9ms/step\n",
      "Epoch 25/30\n",
      "938/938 - 8s - loss: 0.0360 - accuracy: 0.9898 - 8s/epoch - 9ms/step\n",
      "Epoch 26/30\n",
      "938/938 - 8s - loss: 0.0339 - accuracy: 0.9904 - 8s/epoch - 9ms/step\n",
      "Epoch 27/30\n",
      "938/938 - 8s - loss: 0.0359 - accuracy: 0.9895 - 8s/epoch - 9ms/step\n",
      "Epoch 28/30\n",
      "938/938 - 8s - loss: 0.0377 - accuracy: 0.9893 - 8s/epoch - 9ms/step\n",
      "Epoch 29/30\n",
      "938/938 - 8s - loss: 0.0375 - accuracy: 0.9891 - 8s/epoch - 8ms/step\n",
      "Epoch 30/30\n",
      "938/938 - 8s - loss: 0.0377 - accuracy: 0.9901 - 8s/epoch - 9ms/step\n"
     ]
    }
   ],
   "source": [
    "#keras回调\n",
    "early_stopping= keras.callbacks.EarlyStopping(\n",
    "    monitor=\"loss\",\n",
    "    patience=5,\n",
    "    verbose=2\n",
    ")\n",
    "history = model.fit(\n",
    "                    x_train,\n",
    "                    y_train,\n",
    "                    batch_size=batch_size,\n",
    "                    callbacks=[early_stopping],\n",
    "                    epochs=epochs,\n",
    "                    verbose=2)"
   ]
  },
  {
   "cell_type": "code",
   "execution_count": null,
   "id": "05b56f2f",
   "metadata": {},
   "outputs": [],
   "source": []
  }
 ],
 "metadata": {
  "kernelspec": {
   "display_name": "Python 3 (ipykernel)",
   "language": "python",
   "name": "python3"
  },
  "language_info": {
   "codemirror_mode": {
    "name": "ipython",
    "version": 3
   },
   "file_extension": ".py",
   "mimetype": "text/x-python",
   "name": "python",
   "nbconvert_exporter": "python",
   "pygments_lexer": "ipython3",
   "version": "3.9.7"
  }
 },
 "nbformat": 4,
 "nbformat_minor": 5
}
