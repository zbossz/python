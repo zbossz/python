{
 "cells": [
  {
   "cell_type": "code",
   "execution_count": 1,
   "id": "6bbb9b4c",
   "metadata": {},
   "outputs": [],
   "source": [
    "import numpy as np"
   ]
  },
  {
   "cell_type": "markdown",
   "id": "4a3817cf",
   "metadata": {},
   "source": [
    "线性回归模型"
   ]
  },
  {
   "cell_type": "code",
   "execution_count": 13,
   "id": "3956b2ce",
   "metadata": {},
   "outputs": [],
   "source": [
    "class Linear_Regression():\n",
    "    def __init__(self,learning_rate,no_of_iterations):\n",
    "        self.learning_rate = learning_rate\n",
    "        self.no_of_iterations = no_of_iterations\n",
    "    def fit(self,X,Y):\n",
    "        #n是训练的样例，f是训练的特征\n",
    "        self.n,self.f=X.shape\n",
    "        #w是权重，b是偏差（截距）\n",
    "        self.w = np.zeros(self.f)\n",
    "        self.b = 0\n",
    "        self.X = X \n",
    "        self.Y = Y\n",
    "        #应用梯度下降算法\n",
    "        for i in range(self.no_of_iterations):\n",
    "            self.update_weights()\n",
    "    def update_weights(self):\n",
    "        Y_prediction = self.predict(self.X)\n",
    "        # 计算梯度\n",
    "        dw = -(2*(self.X.T).dot(self.Y-Y_prediction))/self.n\n",
    "        db = -2*np.sum(self.Y-Y_prediction)/self.n\n",
    "        # 更新权重\n",
    "        self.w=self.w-self.learning_rate*dw\n",
    "        self.b=self.b-self.learning_rate*db\n",
    "    def predict(self,X):\n",
    "        return X.dot(self.w)+self.b"
   ]
  },
  {
   "cell_type": "code",
   "execution_count": 3,
   "id": "e66083b3",
   "metadata": {},
   "outputs": [],
   "source": [
    "import pandas as pd\n",
    "from sklearn.model_selection import train_test_split\n",
    "import matplotlib.pyplot as plt\n"
   ]
  },
  {
   "cell_type": "code",
   "execution_count": 4,
   "id": "c8c474df",
   "metadata": {},
   "outputs": [],
   "source": [
    "salary_data = pd.read_csv('./ML_dataset/salary_data.csv')"
   ]
  },
  {
   "cell_type": "code",
   "execution_count": 5,
   "id": "b01cfb92",
   "metadata": {},
   "outputs": [
    {
     "data": {
      "text/plain": [
       "YearsExperience    0\n",
       "Salary             0\n",
       "dtype: int64"
      ]
     },
     "execution_count": 5,
     "metadata": {},
     "output_type": "execute_result"
    }
   ],
   "source": [
    "#检查是否有缺失值。\n",
    "salary_data.isnull().sum()"
   ]
  },
  {
   "cell_type": "code",
   "execution_count": 6,
   "id": "a545dd44",
   "metadata": {},
   "outputs": [],
   "source": [
    "X = salary_data.iloc[:,:-1].values\n",
    "Y = salary_data.iloc[:,1].values"
   ]
  },
  {
   "cell_type": "code",
   "execution_count": 10,
   "id": "a58e8920",
   "metadata": {},
   "outputs": [],
   "source": [
    "X_train,X_test,Y_train,Y_test = train_test_split(X,Y,test_size=0.33,random_state=2)"
   ]
  },
  {
   "cell_type": "markdown",
   "id": "487d52aa",
   "metadata": {},
   "source": [
    "训练线性回归模型"
   ]
  },
  {
   "cell_type": "code",
   "execution_count": 31,
   "id": "76985b92",
   "metadata": {},
   "outputs": [],
   "source": [
    "model = Linear_Regression(learning_rate=0.02,no_of_iterations=1000)#learning rate 是根据情况而变的。"
   ]
  },
  {
   "cell_type": "code",
   "execution_count": 32,
   "id": "700e01b3",
   "metadata": {},
   "outputs": [],
   "source": [
    "model.fit(X_train,Y_train)"
   ]
  },
  {
   "cell_type": "code",
   "execution_count": 33,
   "id": "2ba63bed",
   "metadata": {},
   "outputs": [
    {
     "name": "stdout",
     "output_type": "stream",
     "text": [
      "weight=  9514.400999035135\n",
      "bias=  23697.406507136307\n"
     ]
    }
   ],
   "source": [
    "print('weight= ',model.w[0])\n",
    "print('bias= ',model.b)"
   ]
  },
  {
   "cell_type": "code",
   "execution_count": 34,
   "id": "a42b38c3",
   "metadata": {},
   "outputs": [],
   "source": [
    "test_data_prediction = model.predict(X_test)"
   ]
  },
  {
   "cell_type": "code",
   "execution_count": 35,
   "id": "3af51131",
   "metadata": {},
   "outputs": [
    {
     "name": "stdout",
     "output_type": "stream",
     "text": [
      "[ 36066.12780588  34163.24760607  66512.21100279  58900.69020357\n",
      "  91249.65360029  80783.81250135 101715.49469922  52240.60950424\n",
      "  42726.20850521  88395.33330058]\n"
     ]
    }
   ],
   "source": [
    "print(test_data_prediction)"
   ]
  },
  {
   "cell_type": "code",
   "execution_count": 36,
   "id": "4210a020",
   "metadata": {},
   "outputs": [
    {
     "data": {
      "image/png": "[encoded data removed]",
      "text/plain": [
       "<Figure size 432x288 with 1 Axes>"
      ]
     },
     "metadata": {
      "needs_background": "light"
     },
     "output_type": "display_data"
    }
   ],
   "source": [
    "plt.scatter(X_test,Y_test,color='red')\n",
    "plt.plot(X_test,test_data_prediction,color='blue')\n",
    "plt.xlabel('工作年限')\n",
    "plt.ylabel('工资')\n",
    "plt.show()"
   ]
  },
  {
   "cell_type": "code",
   "execution_count": null,
   "id": "52bd382d",
   "metadata": {},
   "outputs": [],
   "source": []
  }
 ],
 "metadata": {
  "kernelspec": {
   "display_name": "Python 3 (ipykernel)",
   "language": "python",
   "name": "python3"
  },
  "language_info": {
   "codemirror_mode": {
    "name": "ipython",
    "version": 3
   },
   "file_extension": ".py",
   "mimetype": "text/x-python",
   "name": "python",
   "nbconvert_exporter": "python",
   "pygments_lexer": "ipython3",
   "version": "3.9.7"
  }
 },
 "nbformat": 4,
 "nbformat_minor": 5
}
