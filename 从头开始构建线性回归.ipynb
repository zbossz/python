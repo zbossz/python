{
 "cells": [
  {
   "cell_type": "code",
   "execution_count": 1,
   "id": "6bbb9b4c",
   "metadata": {},
   "outputs": [],
   "source": [
    "import numpy as np"
   ]
  },
  {
   "cell_type": "markdown",
   "id": "4a3817cf",
   "metadata": {},
   "source": [
    "线性回归模型"
   ]
  },
  {
   "cell_type": "code",
   "execution_count": 7,
   "id": "3956b2ce",
   "metadata": {},
   "outputs": [],
   "source": [
    "class Linear_Regression():\n",
    "    def __init__(self):\n",
    "        self.learning_rate = learning_rate\n",
    "        self.no_of_iterations = no_of_iterations\n",
    "    def fit(self,X,Y):\n",
    "        #n是训练的样例，f是训练的特征\n",
    "        self.n,self.f=X.shape\n",
    "        #w是权重，b是偏差（截距）\n",
    "        self.w = np.zeros(self.f)\n",
    "        self.b = 0\n",
    "        self.X = X \n",
    "        self.Y = Y\n",
    "        #应用梯度下降算法\n",
    "        for i in range(self.no_of_iterations):\n",
    "            self.update_weights()\n",
    "    def update_weights(self):\n",
    "        Y_prediction = self.predict(self.X)\n",
    "        # 计算梯度\n",
    "        dw = -(2*(self.X.T).dot(self.Y-Y_prediction))/self.n\n",
    "        db = -2*np.sum(self.Y-Y_prediction)/self.n\n",
    "        # 更新权重\n",
    "        self.w=self.w-self.learning_rate*dw\n",
    "        self.b=self.b-self.learning_rate*db\n",
    "    def predict(self,X):\n",
    "        return X.dot(self.w)+self.b"
   ]
  },
  {
   "cell_type": "code",
   "execution_count": null,
   "id": "e66083b3",
   "metadata": {},
   "outputs": [],
   "source": []
  }
 ],
 "metadata": {
  "kernelspec": {
   "display_name": "Python 3 (ipykernel)",
   "language": "python",
   "name": "python3"
  },
  "language_info": {
   "codemirror_mode": {
    "name": "ipython",
    "version": 3
   },
   "file_extension": ".py",
   "mimetype": "text/x-python",
   "name": "python",
   "nbconvert_exporter": "python",
   "pygments_lexer": "ipython3",
   "version": "3.9.7"
  }
 },
 "nbformat": 4,
 "nbformat_minor": 5
}
